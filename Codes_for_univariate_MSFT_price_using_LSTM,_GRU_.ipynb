{
  "nbformat": 4,
  "nbformat_minor": 0,
  "metadata": {
    "colab": {
      "provenance": []
    },
    "kernelspec": {
      "name": "python3",
      "display_name": "Python 3"
    },
    "language_info": {
      "name": "python"
    }
  },
  "cells": [
    {
      "cell_type": "code",
      "execution_count": null,
      "metadata": {
        "id": "VrjPbuZgkgom"
      },
      "outputs": [],
      "source": [
        "import os\n",
        "import datetime\n",
        "\n",
        "import IPython\n",
        "import IPython.display\n",
        "import matplotlib as mpl\n",
        "import matplotlib.pyplot as plt\n",
        "import numpy as np\n",
        "import pandas as pd\n",
        "import seaborn as sns\n",
        "#import tensorflow as tf"
      ]
    },
    {
      "cell_type": "code",
      "source": [
        "import tensorflow as tf"
      ],
      "metadata": {
        "id": "st4fA-iQFAsp"
      },
      "execution_count": null,
      "outputs": []
    },
    {
      "cell_type": "code",
      "source": [
        "MSFT_data=pd.read_csv('MSFT1.csv')"
      ],
      "metadata": {
        "id": "ur-jQGLKk5G1"
      },
      "execution_count": null,
      "outputs": []
    },
    {
      "cell_type": "code",
      "source": [
        "MSFT_data.head()"
      ],
      "metadata": {
        "id": "qPm3-5jqtT5x",
        "colab": {
          "base_uri": "https://localhost:8080/",
          "height": 206
        },
        "outputId": "dfac3bd8-4a3c-49e5-dbba-ab7f793c85ce"
      },
      "execution_count": null,
      "outputs": [
        {
          "output_type": "execute_result",
          "data": {
            "text/plain": [
              "         Date       Open       High        Low      Close  Adj Close    Volume\n",
              "0  2017-11-27  83.309998  83.980003  83.300003  83.870003  78.981636  18265200\n",
              "1  2017-11-28  84.070000  85.059998  84.019997  84.879997  79.932762  21926000\n",
              "2  2017-11-29  84.709999  84.919998  83.180000  83.339996  78.482513  27381100\n",
              "3  2017-11-30  83.510002  84.519997  83.339996  84.169998  79.264130  33054600\n",
              "4  2017-12-01  83.599998  84.809998  83.220001  84.260002  79.348900  29532100"
            ],
            "text/html": [
              "\n",
              "  <div id=\"df-062c6564-60f3-4beb-b69a-6b7a74336986\">\n",
              "    <div class=\"colab-df-container\">\n",
              "      <div>\n",
              "<style scoped>\n",
              "    .dataframe tbody tr th:only-of-type {\n",
              "        vertical-align: middle;\n",
              "    }\n",
              "\n",
              "    .dataframe tbody tr th {\n",
              "        vertical-align: top;\n",
              "    }\n",
              "\n",
              "    .dataframe thead th {\n",
              "        text-align: right;\n",
              "    }\n",
              "</style>\n",
              "<table border=\"1\" class=\"dataframe\">\n",
              "  <thead>\n",
              "    <tr style=\"text-align: right;\">\n",
              "      <th></th>\n",
              "      <th>Date</th>\n",
              "      <th>Open</th>\n",
              "      <th>High</th>\n",
              "      <th>Low</th>\n",
              "      <th>Close</th>\n",
              "      <th>Adj Close</th>\n",
              "      <th>Volume</th>\n",
              "    </tr>\n",
              "  </thead>\n",
              "  <tbody>\n",
              "    <tr>\n",
              "      <th>0</th>\n",
              "      <td>2017-11-27</td>\n",
              "      <td>83.309998</td>\n",
              "      <td>83.980003</td>\n",
              "      <td>83.300003</td>\n",
              "      <td>83.870003</td>\n",
              "      <td>78.981636</td>\n",
              "      <td>18265200</td>\n",
              "    </tr>\n",
              "    <tr>\n",
              "      <th>1</th>\n",
              "      <td>2017-11-28</td>\n",
              "      <td>84.070000</td>\n",
              "      <td>85.059998</td>\n",
              "      <td>84.019997</td>\n",
              "      <td>84.879997</td>\n",
              "      <td>79.932762</td>\n",
              "      <td>21926000</td>\n",
              "    </tr>\n",
              "    <tr>\n",
              "      <th>2</th>\n",
              "      <td>2017-11-29</td>\n",
              "      <td>84.709999</td>\n",
              "      <td>84.919998</td>\n",
              "      <td>83.180000</td>\n",
              "      <td>83.339996</td>\n",
              "      <td>78.482513</td>\n",
              "      <td>27381100</td>\n",
              "    </tr>\n",
              "    <tr>\n",
              "      <th>3</th>\n",
              "      <td>2017-11-30</td>\n",
              "      <td>83.510002</td>\n",
              "      <td>84.519997</td>\n",
              "      <td>83.339996</td>\n",
              "      <td>84.169998</td>\n",
              "      <td>79.264130</td>\n",
              "      <td>33054600</td>\n",
              "    </tr>\n",
              "    <tr>\n",
              "      <th>4</th>\n",
              "      <td>2017-12-01</td>\n",
              "      <td>83.599998</td>\n",
              "      <td>84.809998</td>\n",
              "      <td>83.220001</td>\n",
              "      <td>84.260002</td>\n",
              "      <td>79.348900</td>\n",
              "      <td>29532100</td>\n",
              "    </tr>\n",
              "  </tbody>\n",
              "</table>\n",
              "</div>\n",
              "      <button class=\"colab-df-convert\" onclick=\"convertToInteractive('df-062c6564-60f3-4beb-b69a-6b7a74336986')\"\n",
              "              title=\"Convert this dataframe to an interactive table.\"\n",
              "              style=\"display:none;\">\n",
              "        \n",
              "  <svg xmlns=\"http://www.w3.org/2000/svg\" height=\"24px\"viewBox=\"0 0 24 24\"\n",
              "       width=\"24px\">\n",
              "    <path d=\"M0 0h24v24H0V0z\" fill=\"none\"/>\n",
              "    <path d=\"M18.56 5.44l.94 2.06.94-2.06 2.06-.94-2.06-.94-.94-2.06-.94 2.06-2.06.94zm-11 1L8.5 8.5l.94-2.06 2.06-.94-2.06-.94L8.5 2.5l-.94 2.06-2.06.94zm10 10l.94 2.06.94-2.06 2.06-.94-2.06-.94-.94-2.06-.94 2.06-2.06.94z\"/><path d=\"M17.41 7.96l-1.37-1.37c-.4-.4-.92-.59-1.43-.59-.52 0-1.04.2-1.43.59L10.3 9.45l-7.72 7.72c-.78.78-.78 2.05 0 2.83L4 21.41c.39.39.9.59 1.41.59.51 0 1.02-.2 1.41-.59l7.78-7.78 2.81-2.81c.8-.78.8-2.07 0-2.86zM5.41 20L4 18.59l7.72-7.72 1.47 1.35L5.41 20z\"/>\n",
              "  </svg>\n",
              "      </button>\n",
              "      \n",
              "  <style>\n",
              "    .colab-df-container {\n",
              "      display:flex;\n",
              "      flex-wrap:wrap;\n",
              "      gap: 12px;\n",
              "    }\n",
              "\n",
              "    .colab-df-convert {\n",
              "      background-color: #E8F0FE;\n",
              "      border: none;\n",
              "      border-radius: 50%;\n",
              "      cursor: pointer;\n",
              "      display: none;\n",
              "      fill: #1967D2;\n",
              "      height: 32px;\n",
              "      padding: 0 0 0 0;\n",
              "      width: 32px;\n",
              "    }\n",
              "\n",
              "    .colab-df-convert:hover {\n",
              "      background-color: #E2EBFA;\n",
              "      box-shadow: 0px 1px 2px rgba(60, 64, 67, 0.3), 0px 1px 3px 1px rgba(60, 64, 67, 0.15);\n",
              "      fill: #174EA6;\n",
              "    }\n",
              "\n",
              "    [theme=dark] .colab-df-convert {\n",
              "      background-color: #3B4455;\n",
              "      fill: #D2E3FC;\n",
              "    }\n",
              "\n",
              "    [theme=dark] .colab-df-convert:hover {\n",
              "      background-color: #434B5C;\n",
              "      box-shadow: 0px 1px 3px 1px rgba(0, 0, 0, 0.15);\n",
              "      filter: drop-shadow(0px 1px 2px rgba(0, 0, 0, 0.3));\n",
              "      fill: #FFFFFF;\n",
              "    }\n",
              "  </style>\n",
              "\n",
              "      <script>\n",
              "        const buttonEl =\n",
              "          document.querySelector('#df-062c6564-60f3-4beb-b69a-6b7a74336986 button.colab-df-convert');\n",
              "        buttonEl.style.display =\n",
              "          google.colab.kernel.accessAllowed ? 'block' : 'none';\n",
              "\n",
              "        async function convertToInteractive(key) {\n",
              "          const element = document.querySelector('#df-062c6564-60f3-4beb-b69a-6b7a74336986');\n",
              "          const dataTable =\n",
              "            await google.colab.kernel.invokeFunction('convertToInteractive',\n",
              "                                                     [key], {});\n",
              "          if (!dataTable) return;\n",
              "\n",
              "          const docLinkHtml = 'Like what you see? Visit the ' +\n",
              "            '<a target=\"_blank\" href=https://colab.research.google.com/notebooks/data_table.ipynb>data table notebook</a>'\n",
              "            + ' to learn more about interactive tables.';\n",
              "          element.innerHTML = '';\n",
              "          dataTable['output_type'] = 'display_data';\n",
              "          await google.colab.output.renderOutput(dataTable, element);\n",
              "          const docLink = document.createElement('div');\n",
              "          docLink.innerHTML = docLinkHtml;\n",
              "          element.appendChild(docLink);\n",
              "        }\n",
              "      </script>\n",
              "    </div>\n",
              "  </div>\n",
              "  "
            ]
          },
          "metadata": {},
          "execution_count": 182
        }
      ]
    },
    {
      "cell_type": "code",
      "source": [
        "total_data=MSFT_data\n",
        "total_data.rename(columns={'Adj Close':'MSFT'},inplace=True)"
      ],
      "metadata": {
        "id": "sUZ5SJ4clSxz"
      },
      "execution_count": null,
      "outputs": []
    },
    {
      "cell_type": "code",
      "source": [
        "total_data.head()"
      ],
      "metadata": {
        "id": "dOan1NZnlXgi",
        "colab": {
          "base_uri": "https://localhost:8080/",
          "height": 206
        },
        "outputId": "b4f71ad0-5dbf-45f5-c963-494361593911"
      },
      "execution_count": null,
      "outputs": [
        {
          "output_type": "execute_result",
          "data": {
            "text/plain": [
              "         Date       Open       High        Low      Close       MSFT    Volume\n",
              "0  2017-11-27  83.309998  83.980003  83.300003  83.870003  78.981636  18265200\n",
              "1  2017-11-28  84.070000  85.059998  84.019997  84.879997  79.932762  21926000\n",
              "2  2017-11-29  84.709999  84.919998  83.180000  83.339996  78.482513  27381100\n",
              "3  2017-11-30  83.510002  84.519997  83.339996  84.169998  79.264130  33054600\n",
              "4  2017-12-01  83.599998  84.809998  83.220001  84.260002  79.348900  29532100"
            ],
            "text/html": [
              "\n",
              "  <div id=\"df-eff5cad4-0554-412f-8ef1-a93c5463316d\">\n",
              "    <div class=\"colab-df-container\">\n",
              "      <div>\n",
              "<style scoped>\n",
              "    .dataframe tbody tr th:only-of-type {\n",
              "        vertical-align: middle;\n",
              "    }\n",
              "\n",
              "    .dataframe tbody tr th {\n",
              "        vertical-align: top;\n",
              "    }\n",
              "\n",
              "    .dataframe thead th {\n",
              "        text-align: right;\n",
              "    }\n",
              "</style>\n",
              "<table border=\"1\" class=\"dataframe\">\n",
              "  <thead>\n",
              "    <tr style=\"text-align: right;\">\n",
              "      <th></th>\n",
              "      <th>Date</th>\n",
              "      <th>Open</th>\n",
              "      <th>High</th>\n",
              "      <th>Low</th>\n",
              "      <th>Close</th>\n",
              "      <th>MSFT</th>\n",
              "      <th>Volume</th>\n",
              "    </tr>\n",
              "  </thead>\n",
              "  <tbody>\n",
              "    <tr>\n",
              "      <th>0</th>\n",
              "      <td>2017-11-27</td>\n",
              "      <td>83.309998</td>\n",
              "      <td>83.980003</td>\n",
              "      <td>83.300003</td>\n",
              "      <td>83.870003</td>\n",
              "      <td>78.981636</td>\n",
              "      <td>18265200</td>\n",
              "    </tr>\n",
              "    <tr>\n",
              "      <th>1</th>\n",
              "      <td>2017-11-28</td>\n",
              "      <td>84.070000</td>\n",
              "      <td>85.059998</td>\n",
              "      <td>84.019997</td>\n",
              "      <td>84.879997</td>\n",
              "      <td>79.932762</td>\n",
              "      <td>21926000</td>\n",
              "    </tr>\n",
              "    <tr>\n",
              "      <th>2</th>\n",
              "      <td>2017-11-29</td>\n",
              "      <td>84.709999</td>\n",
              "      <td>84.919998</td>\n",
              "      <td>83.180000</td>\n",
              "      <td>83.339996</td>\n",
              "      <td>78.482513</td>\n",
              "      <td>27381100</td>\n",
              "    </tr>\n",
              "    <tr>\n",
              "      <th>3</th>\n",
              "      <td>2017-11-30</td>\n",
              "      <td>83.510002</td>\n",
              "      <td>84.519997</td>\n",
              "      <td>83.339996</td>\n",
              "      <td>84.169998</td>\n",
              "      <td>79.264130</td>\n",
              "      <td>33054600</td>\n",
              "    </tr>\n",
              "    <tr>\n",
              "      <th>4</th>\n",
              "      <td>2017-12-01</td>\n",
              "      <td>83.599998</td>\n",
              "      <td>84.809998</td>\n",
              "      <td>83.220001</td>\n",
              "      <td>84.260002</td>\n",
              "      <td>79.348900</td>\n",
              "      <td>29532100</td>\n",
              "    </tr>\n",
              "  </tbody>\n",
              "</table>\n",
              "</div>\n",
              "      <button class=\"colab-df-convert\" onclick=\"convertToInteractive('df-eff5cad4-0554-412f-8ef1-a93c5463316d')\"\n",
              "              title=\"Convert this dataframe to an interactive table.\"\n",
              "              style=\"display:none;\">\n",
              "        \n",
              "  <svg xmlns=\"http://www.w3.org/2000/svg\" height=\"24px\"viewBox=\"0 0 24 24\"\n",
              "       width=\"24px\">\n",
              "    <path d=\"M0 0h24v24H0V0z\" fill=\"none\"/>\n",
              "    <path d=\"M18.56 5.44l.94 2.06.94-2.06 2.06-.94-2.06-.94-.94-2.06-.94 2.06-2.06.94zm-11 1L8.5 8.5l.94-2.06 2.06-.94-2.06-.94L8.5 2.5l-.94 2.06-2.06.94zm10 10l.94 2.06.94-2.06 2.06-.94-2.06-.94-.94-2.06-.94 2.06-2.06.94z\"/><path d=\"M17.41 7.96l-1.37-1.37c-.4-.4-.92-.59-1.43-.59-.52 0-1.04.2-1.43.59L10.3 9.45l-7.72 7.72c-.78.78-.78 2.05 0 2.83L4 21.41c.39.39.9.59 1.41.59.51 0 1.02-.2 1.41-.59l7.78-7.78 2.81-2.81c.8-.78.8-2.07 0-2.86zM5.41 20L4 18.59l7.72-7.72 1.47 1.35L5.41 20z\"/>\n",
              "  </svg>\n",
              "      </button>\n",
              "      \n",
              "  <style>\n",
              "    .colab-df-container {\n",
              "      display:flex;\n",
              "      flex-wrap:wrap;\n",
              "      gap: 12px;\n",
              "    }\n",
              "\n",
              "    .colab-df-convert {\n",
              "      background-color: #E8F0FE;\n",
              "      border: none;\n",
              "      border-radius: 50%;\n",
              "      cursor: pointer;\n",
              "      display: none;\n",
              "      fill: #1967D2;\n",
              "      height: 32px;\n",
              "      padding: 0 0 0 0;\n",
              "      width: 32px;\n",
              "    }\n",
              "\n",
              "    .colab-df-convert:hover {\n",
              "      background-color: #E2EBFA;\n",
              "      box-shadow: 0px 1px 2px rgba(60, 64, 67, 0.3), 0px 1px 3px 1px rgba(60, 64, 67, 0.15);\n",
              "      fill: #174EA6;\n",
              "    }\n",
              "\n",
              "    [theme=dark] .colab-df-convert {\n",
              "      background-color: #3B4455;\n",
              "      fill: #D2E3FC;\n",
              "    }\n",
              "\n",
              "    [theme=dark] .colab-df-convert:hover {\n",
              "      background-color: #434B5C;\n",
              "      box-shadow: 0px 1px 3px 1px rgba(0, 0, 0, 0.15);\n",
              "      filter: drop-shadow(0px 1px 2px rgba(0, 0, 0, 0.3));\n",
              "      fill: #FFFFFF;\n",
              "    }\n",
              "  </style>\n",
              "\n",
              "      <script>\n",
              "        const buttonEl =\n",
              "          document.querySelector('#df-eff5cad4-0554-412f-8ef1-a93c5463316d button.colab-df-convert');\n",
              "        buttonEl.style.display =\n",
              "          google.colab.kernel.accessAllowed ? 'block' : 'none';\n",
              "\n",
              "        async function convertToInteractive(key) {\n",
              "          const element = document.querySelector('#df-eff5cad4-0554-412f-8ef1-a93c5463316d');\n",
              "          const dataTable =\n",
              "            await google.colab.kernel.invokeFunction('convertToInteractive',\n",
              "                                                     [key], {});\n",
              "          if (!dataTable) return;\n",
              "\n",
              "          const docLinkHtml = 'Like what you see? Visit the ' +\n",
              "            '<a target=\"_blank\" href=https://colab.research.google.com/notebooks/data_table.ipynb>data table notebook</a>'\n",
              "            + ' to learn more about interactive tables.';\n",
              "          element.innerHTML = '';\n",
              "          dataTable['output_type'] = 'display_data';\n",
              "          await google.colab.output.renderOutput(dataTable, element);\n",
              "          const docLink = document.createElement('div');\n",
              "          docLink.innerHTML = docLinkHtml;\n",
              "          element.appendChild(docLink);\n",
              "        }\n",
              "      </script>\n",
              "    </div>\n",
              "  </div>\n",
              "  "
            ]
          },
          "metadata": {},
          "execution_count": 184
        }
      ]
    },
    {
      "cell_type": "code",
      "source": [
        "date_time = pd.to_datetime(total_data.pop('Date'), format='%Y-%m-%d')"
      ],
      "metadata": {
        "id": "czdv4yvOlcCr"
      },
      "execution_count": null,
      "outputs": []
    },
    {
      "cell_type": "code",
      "source": [
        "total_data.head()"
      ],
      "metadata": {
        "id": "uChPgqewlgZp",
        "colab": {
          "base_uri": "https://localhost:8080/",
          "height": 206
        },
        "outputId": "f1062f86-cd4c-454d-c86d-d767581f0637"
      },
      "execution_count": null,
      "outputs": [
        {
          "output_type": "execute_result",
          "data": {
            "text/plain": [
              "        Open       High        Low      Close       MSFT    Volume\n",
              "0  83.309998  83.980003  83.300003  83.870003  78.981636  18265200\n",
              "1  84.070000  85.059998  84.019997  84.879997  79.932762  21926000\n",
              "2  84.709999  84.919998  83.180000  83.339996  78.482513  27381100\n",
              "3  83.510002  84.519997  83.339996  84.169998  79.264130  33054600\n",
              "4  83.599998  84.809998  83.220001  84.260002  79.348900  29532100"
            ],
            "text/html": [
              "\n",
              "  <div id=\"df-94b26ef4-1ca7-437f-b0aa-13f819e348ee\">\n",
              "    <div class=\"colab-df-container\">\n",
              "      <div>\n",
              "<style scoped>\n",
              "    .dataframe tbody tr th:only-of-type {\n",
              "        vertical-align: middle;\n",
              "    }\n",
              "\n",
              "    .dataframe tbody tr th {\n",
              "        vertical-align: top;\n",
              "    }\n",
              "\n",
              "    .dataframe thead th {\n",
              "        text-align: right;\n",
              "    }\n",
              "</style>\n",
              "<table border=\"1\" class=\"dataframe\">\n",
              "  <thead>\n",
              "    <tr style=\"text-align: right;\">\n",
              "      <th></th>\n",
              "      <th>Open</th>\n",
              "      <th>High</th>\n",
              "      <th>Low</th>\n",
              "      <th>Close</th>\n",
              "      <th>MSFT</th>\n",
              "      <th>Volume</th>\n",
              "    </tr>\n",
              "  </thead>\n",
              "  <tbody>\n",
              "    <tr>\n",
              "      <th>0</th>\n",
              "      <td>83.309998</td>\n",
              "      <td>83.980003</td>\n",
              "      <td>83.300003</td>\n",
              "      <td>83.870003</td>\n",
              "      <td>78.981636</td>\n",
              "      <td>18265200</td>\n",
              "    </tr>\n",
              "    <tr>\n",
              "      <th>1</th>\n",
              "      <td>84.070000</td>\n",
              "      <td>85.059998</td>\n",
              "      <td>84.019997</td>\n",
              "      <td>84.879997</td>\n",
              "      <td>79.932762</td>\n",
              "      <td>21926000</td>\n",
              "    </tr>\n",
              "    <tr>\n",
              "      <th>2</th>\n",
              "      <td>84.709999</td>\n",
              "      <td>84.919998</td>\n",
              "      <td>83.180000</td>\n",
              "      <td>83.339996</td>\n",
              "      <td>78.482513</td>\n",
              "      <td>27381100</td>\n",
              "    </tr>\n",
              "    <tr>\n",
              "      <th>3</th>\n",
              "      <td>83.510002</td>\n",
              "      <td>84.519997</td>\n",
              "      <td>83.339996</td>\n",
              "      <td>84.169998</td>\n",
              "      <td>79.264130</td>\n",
              "      <td>33054600</td>\n",
              "    </tr>\n",
              "    <tr>\n",
              "      <th>4</th>\n",
              "      <td>83.599998</td>\n",
              "      <td>84.809998</td>\n",
              "      <td>83.220001</td>\n",
              "      <td>84.260002</td>\n",
              "      <td>79.348900</td>\n",
              "      <td>29532100</td>\n",
              "    </tr>\n",
              "  </tbody>\n",
              "</table>\n",
              "</div>\n",
              "      <button class=\"colab-df-convert\" onclick=\"convertToInteractive('df-94b26ef4-1ca7-437f-b0aa-13f819e348ee')\"\n",
              "              title=\"Convert this dataframe to an interactive table.\"\n",
              "              style=\"display:none;\">\n",
              "        \n",
              "  <svg xmlns=\"http://www.w3.org/2000/svg\" height=\"24px\"viewBox=\"0 0 24 24\"\n",
              "       width=\"24px\">\n",
              "    <path d=\"M0 0h24v24H0V0z\" fill=\"none\"/>\n",
              "    <path d=\"M18.56 5.44l.94 2.06.94-2.06 2.06-.94-2.06-.94-.94-2.06-.94 2.06-2.06.94zm-11 1L8.5 8.5l.94-2.06 2.06-.94-2.06-.94L8.5 2.5l-.94 2.06-2.06.94zm10 10l.94 2.06.94-2.06 2.06-.94-2.06-.94-.94-2.06-.94 2.06-2.06.94z\"/><path d=\"M17.41 7.96l-1.37-1.37c-.4-.4-.92-.59-1.43-.59-.52 0-1.04.2-1.43.59L10.3 9.45l-7.72 7.72c-.78.78-.78 2.05 0 2.83L4 21.41c.39.39.9.59 1.41.59.51 0 1.02-.2 1.41-.59l7.78-7.78 2.81-2.81c.8-.78.8-2.07 0-2.86zM5.41 20L4 18.59l7.72-7.72 1.47 1.35L5.41 20z\"/>\n",
              "  </svg>\n",
              "      </button>\n",
              "      \n",
              "  <style>\n",
              "    .colab-df-container {\n",
              "      display:flex;\n",
              "      flex-wrap:wrap;\n",
              "      gap: 12px;\n",
              "    }\n",
              "\n",
              "    .colab-df-convert {\n",
              "      background-color: #E8F0FE;\n",
              "      border: none;\n",
              "      border-radius: 50%;\n",
              "      cursor: pointer;\n",
              "      display: none;\n",
              "      fill: #1967D2;\n",
              "      height: 32px;\n",
              "      padding: 0 0 0 0;\n",
              "      width: 32px;\n",
              "    }\n",
              "\n",
              "    .colab-df-convert:hover {\n",
              "      background-color: #E2EBFA;\n",
              "      box-shadow: 0px 1px 2px rgba(60, 64, 67, 0.3), 0px 1px 3px 1px rgba(60, 64, 67, 0.15);\n",
              "      fill: #174EA6;\n",
              "    }\n",
              "\n",
              "    [theme=dark] .colab-df-convert {\n",
              "      background-color: #3B4455;\n",
              "      fill: #D2E3FC;\n",
              "    }\n",
              "\n",
              "    [theme=dark] .colab-df-convert:hover {\n",
              "      background-color: #434B5C;\n",
              "      box-shadow: 0px 1px 3px 1px rgba(0, 0, 0, 0.15);\n",
              "      filter: drop-shadow(0px 1px 2px rgba(0, 0, 0, 0.3));\n",
              "      fill: #FFFFFF;\n",
              "    }\n",
              "  </style>\n",
              "\n",
              "      <script>\n",
              "        const buttonEl =\n",
              "          document.querySelector('#df-94b26ef4-1ca7-437f-b0aa-13f819e348ee button.colab-df-convert');\n",
              "        buttonEl.style.display =\n",
              "          google.colab.kernel.accessAllowed ? 'block' : 'none';\n",
              "\n",
              "        async function convertToInteractive(key) {\n",
              "          const element = document.querySelector('#df-94b26ef4-1ca7-437f-b0aa-13f819e348ee');\n",
              "          const dataTable =\n",
              "            await google.colab.kernel.invokeFunction('convertToInteractive',\n",
              "                                                     [key], {});\n",
              "          if (!dataTable) return;\n",
              "\n",
              "          const docLinkHtml = 'Like what you see? Visit the ' +\n",
              "            '<a target=\"_blank\" href=https://colab.research.google.com/notebooks/data_table.ipynb>data table notebook</a>'\n",
              "            + ' to learn more about interactive tables.';\n",
              "          element.innerHTML = '';\n",
              "          dataTable['output_type'] = 'display_data';\n",
              "          await google.colab.output.renderOutput(dataTable, element);\n",
              "          const docLink = document.createElement('div');\n",
              "          docLink.innerHTML = docLinkHtml;\n",
              "          element.appendChild(docLink);\n",
              "        }\n",
              "      </script>\n",
              "    </div>\n",
              "  </div>\n",
              "  "
            ]
          },
          "metadata": {},
          "execution_count": 186
        }
      ]
    },
    {
      "cell_type": "code",
      "source": [
        "total_data.index=date_time"
      ],
      "metadata": {
        "id": "SLR1zvaFliRZ"
      },
      "execution_count": null,
      "outputs": []
    },
    {
      "cell_type": "code",
      "source": [
        "total_data.head()"
      ],
      "metadata": {
        "id": "kYzTsmw1lj3B",
        "colab": {
          "base_uri": "https://localhost:8080/",
          "height": 237
        },
        "outputId": "1e881499-92be-48b8-9802-334de67faae8"
      },
      "execution_count": null,
      "outputs": [
        {
          "output_type": "execute_result",
          "data": {
            "text/plain": [
              "                 Open       High        Low      Close       MSFT    Volume\n",
              "Date                                                                       \n",
              "2017-11-27  83.309998  83.980003  83.300003  83.870003  78.981636  18265200\n",
              "2017-11-28  84.070000  85.059998  84.019997  84.879997  79.932762  21926000\n",
              "2017-11-29  84.709999  84.919998  83.180000  83.339996  78.482513  27381100\n",
              "2017-11-30  83.510002  84.519997  83.339996  84.169998  79.264130  33054600\n",
              "2017-12-01  83.599998  84.809998  83.220001  84.260002  79.348900  29532100"
            ],
            "text/html": [
              "\n",
              "  <div id=\"df-3cca184f-c623-4f42-8238-47079c328422\">\n",
              "    <div class=\"colab-df-container\">\n",
              "      <div>\n",
              "<style scoped>\n",
              "    .dataframe tbody tr th:only-of-type {\n",
              "        vertical-align: middle;\n",
              "    }\n",
              "\n",
              "    .dataframe tbody tr th {\n",
              "        vertical-align: top;\n",
              "    }\n",
              "\n",
              "    .dataframe thead th {\n",
              "        text-align: right;\n",
              "    }\n",
              "</style>\n",
              "<table border=\"1\" class=\"dataframe\">\n",
              "  <thead>\n",
              "    <tr style=\"text-align: right;\">\n",
              "      <th></th>\n",
              "      <th>Open</th>\n",
              "      <th>High</th>\n",
              "      <th>Low</th>\n",
              "      <th>Close</th>\n",
              "      <th>MSFT</th>\n",
              "      <th>Volume</th>\n",
              "    </tr>\n",
              "    <tr>\n",
              "      <th>Date</th>\n",
              "      <th></th>\n",
              "      <th></th>\n",
              "      <th></th>\n",
              "      <th></th>\n",
              "      <th></th>\n",
              "      <th></th>\n",
              "    </tr>\n",
              "  </thead>\n",
              "  <tbody>\n",
              "    <tr>\n",
              "      <th>2017-11-27</th>\n",
              "      <td>83.309998</td>\n",
              "      <td>83.980003</td>\n",
              "      <td>83.300003</td>\n",
              "      <td>83.870003</td>\n",
              "      <td>78.981636</td>\n",
              "      <td>18265200</td>\n",
              "    </tr>\n",
              "    <tr>\n",
              "      <th>2017-11-28</th>\n",
              "      <td>84.070000</td>\n",
              "      <td>85.059998</td>\n",
              "      <td>84.019997</td>\n",
              "      <td>84.879997</td>\n",
              "      <td>79.932762</td>\n",
              "      <td>21926000</td>\n",
              "    </tr>\n",
              "    <tr>\n",
              "      <th>2017-11-29</th>\n",
              "      <td>84.709999</td>\n",
              "      <td>84.919998</td>\n",
              "      <td>83.180000</td>\n",
              "      <td>83.339996</td>\n",
              "      <td>78.482513</td>\n",
              "      <td>27381100</td>\n",
              "    </tr>\n",
              "    <tr>\n",
              "      <th>2017-11-30</th>\n",
              "      <td>83.510002</td>\n",
              "      <td>84.519997</td>\n",
              "      <td>83.339996</td>\n",
              "      <td>84.169998</td>\n",
              "      <td>79.264130</td>\n",
              "      <td>33054600</td>\n",
              "    </tr>\n",
              "    <tr>\n",
              "      <th>2017-12-01</th>\n",
              "      <td>83.599998</td>\n",
              "      <td>84.809998</td>\n",
              "      <td>83.220001</td>\n",
              "      <td>84.260002</td>\n",
              "      <td>79.348900</td>\n",
              "      <td>29532100</td>\n",
              "    </tr>\n",
              "  </tbody>\n",
              "</table>\n",
              "</div>\n",
              "      <button class=\"colab-df-convert\" onclick=\"convertToInteractive('df-3cca184f-c623-4f42-8238-47079c328422')\"\n",
              "              title=\"Convert this dataframe to an interactive table.\"\n",
              "              style=\"display:none;\">\n",
              "        \n",
              "  <svg xmlns=\"http://www.w3.org/2000/svg\" height=\"24px\"viewBox=\"0 0 24 24\"\n",
              "       width=\"24px\">\n",
              "    <path d=\"M0 0h24v24H0V0z\" fill=\"none\"/>\n",
              "    <path d=\"M18.56 5.44l.94 2.06.94-2.06 2.06-.94-2.06-.94-.94-2.06-.94 2.06-2.06.94zm-11 1L8.5 8.5l.94-2.06 2.06-.94-2.06-.94L8.5 2.5l-.94 2.06-2.06.94zm10 10l.94 2.06.94-2.06 2.06-.94-2.06-.94-.94-2.06-.94 2.06-2.06.94z\"/><path d=\"M17.41 7.96l-1.37-1.37c-.4-.4-.92-.59-1.43-.59-.52 0-1.04.2-1.43.59L10.3 9.45l-7.72 7.72c-.78.78-.78 2.05 0 2.83L4 21.41c.39.39.9.59 1.41.59.51 0 1.02-.2 1.41-.59l7.78-7.78 2.81-2.81c.8-.78.8-2.07 0-2.86zM5.41 20L4 18.59l7.72-7.72 1.47 1.35L5.41 20z\"/>\n",
              "  </svg>\n",
              "      </button>\n",
              "      \n",
              "  <style>\n",
              "    .colab-df-container {\n",
              "      display:flex;\n",
              "      flex-wrap:wrap;\n",
              "      gap: 12px;\n",
              "    }\n",
              "\n",
              "    .colab-df-convert {\n",
              "      background-color: #E8F0FE;\n",
              "      border: none;\n",
              "      border-radius: 50%;\n",
              "      cursor: pointer;\n",
              "      display: none;\n",
              "      fill: #1967D2;\n",
              "      height: 32px;\n",
              "      padding: 0 0 0 0;\n",
              "      width: 32px;\n",
              "    }\n",
              "\n",
              "    .colab-df-convert:hover {\n",
              "      background-color: #E2EBFA;\n",
              "      box-shadow: 0px 1px 2px rgba(60, 64, 67, 0.3), 0px 1px 3px 1px rgba(60, 64, 67, 0.15);\n",
              "      fill: #174EA6;\n",
              "    }\n",
              "\n",
              "    [theme=dark] .colab-df-convert {\n",
              "      background-color: #3B4455;\n",
              "      fill: #D2E3FC;\n",
              "    }\n",
              "\n",
              "    [theme=dark] .colab-df-convert:hover {\n",
              "      background-color: #434B5C;\n",
              "      box-shadow: 0px 1px 3px 1px rgba(0, 0, 0, 0.15);\n",
              "      filter: drop-shadow(0px 1px 2px rgba(0, 0, 0, 0.3));\n",
              "      fill: #FFFFFF;\n",
              "    }\n",
              "  </style>\n",
              "\n",
              "      <script>\n",
              "        const buttonEl =\n",
              "          document.querySelector('#df-3cca184f-c623-4f42-8238-47079c328422 button.colab-df-convert');\n",
              "        buttonEl.style.display =\n",
              "          google.colab.kernel.accessAllowed ? 'block' : 'none';\n",
              "\n",
              "        async function convertToInteractive(key) {\n",
              "          const element = document.querySelector('#df-3cca184f-c623-4f42-8238-47079c328422');\n",
              "          const dataTable =\n",
              "            await google.colab.kernel.invokeFunction('convertToInteractive',\n",
              "                                                     [key], {});\n",
              "          if (!dataTable) return;\n",
              "\n",
              "          const docLinkHtml = 'Like what you see? Visit the ' +\n",
              "            '<a target=\"_blank\" href=https://colab.research.google.com/notebooks/data_table.ipynb>data table notebook</a>'\n",
              "            + ' to learn more about interactive tables.';\n",
              "          element.innerHTML = '';\n",
              "          dataTable['output_type'] = 'display_data';\n",
              "          await google.colab.output.renderOutput(dataTable, element);\n",
              "          const docLink = document.createElement('div');\n",
              "          docLink.innerHTML = docLinkHtml;\n",
              "          element.appendChild(docLink);\n",
              "        }\n",
              "      </script>\n",
              "    </div>\n",
              "  </div>\n",
              "  "
            ]
          },
          "metadata": {},
          "execution_count": 188
        }
      ]
    },
    {
      "cell_type": "code",
      "source": [
        "total_data=total_data.drop(['Open','High','Low','Close','Volume'],axis=1)"
      ],
      "metadata": {
        "id": "jp5YuMDPlkuR"
      },
      "execution_count": null,
      "outputs": []
    },
    {
      "cell_type": "code",
      "source": [
        "total_data.head()"
      ],
      "metadata": {
        "id": "y_r-t5J6lncU",
        "colab": {
          "base_uri": "https://localhost:8080/",
          "height": 237
        },
        "outputId": "0725c388-1f98-4958-cc09-46aa45536171"
      },
      "execution_count": null,
      "outputs": [
        {
          "output_type": "execute_result",
          "data": {
            "text/plain": [
              "                 MSFT\n",
              "Date                 \n",
              "2017-11-27  78.981636\n",
              "2017-11-28  79.932762\n",
              "2017-11-29  78.482513\n",
              "2017-11-30  79.264130\n",
              "2017-12-01  79.348900"
            ],
            "text/html": [
              "\n",
              "  <div id=\"df-992f37e3-5b85-412f-a5c4-9f6a2cdd10e3\">\n",
              "    <div class=\"colab-df-container\">\n",
              "      <div>\n",
              "<style scoped>\n",
              "    .dataframe tbody tr th:only-of-type {\n",
              "        vertical-align: middle;\n",
              "    }\n",
              "\n",
              "    .dataframe tbody tr th {\n",
              "        vertical-align: top;\n",
              "    }\n",
              "\n",
              "    .dataframe thead th {\n",
              "        text-align: right;\n",
              "    }\n",
              "</style>\n",
              "<table border=\"1\" class=\"dataframe\">\n",
              "  <thead>\n",
              "    <tr style=\"text-align: right;\">\n",
              "      <th></th>\n",
              "      <th>MSFT</th>\n",
              "    </tr>\n",
              "    <tr>\n",
              "      <th>Date</th>\n",
              "      <th></th>\n",
              "    </tr>\n",
              "  </thead>\n",
              "  <tbody>\n",
              "    <tr>\n",
              "      <th>2017-11-27</th>\n",
              "      <td>78.981636</td>\n",
              "    </tr>\n",
              "    <tr>\n",
              "      <th>2017-11-28</th>\n",
              "      <td>79.932762</td>\n",
              "    </tr>\n",
              "    <tr>\n",
              "      <th>2017-11-29</th>\n",
              "      <td>78.482513</td>\n",
              "    </tr>\n",
              "    <tr>\n",
              "      <th>2017-11-30</th>\n",
              "      <td>79.264130</td>\n",
              "    </tr>\n",
              "    <tr>\n",
              "      <th>2017-12-01</th>\n",
              "      <td>79.348900</td>\n",
              "    </tr>\n",
              "  </tbody>\n",
              "</table>\n",
              "</div>\n",
              "      <button class=\"colab-df-convert\" onclick=\"convertToInteractive('df-992f37e3-5b85-412f-a5c4-9f6a2cdd10e3')\"\n",
              "              title=\"Convert this dataframe to an interactive table.\"\n",
              "              style=\"display:none;\">\n",
              "        \n",
              "  <svg xmlns=\"http://www.w3.org/2000/svg\" height=\"24px\"viewBox=\"0 0 24 24\"\n",
              "       width=\"24px\">\n",
              "    <path d=\"M0 0h24v24H0V0z\" fill=\"none\"/>\n",
              "    <path d=\"M18.56 5.44l.94 2.06.94-2.06 2.06-.94-2.06-.94-.94-2.06-.94 2.06-2.06.94zm-11 1L8.5 8.5l.94-2.06 2.06-.94-2.06-.94L8.5 2.5l-.94 2.06-2.06.94zm10 10l.94 2.06.94-2.06 2.06-.94-2.06-.94-.94-2.06-.94 2.06-2.06.94z\"/><path d=\"M17.41 7.96l-1.37-1.37c-.4-.4-.92-.59-1.43-.59-.52 0-1.04.2-1.43.59L10.3 9.45l-7.72 7.72c-.78.78-.78 2.05 0 2.83L4 21.41c.39.39.9.59 1.41.59.51 0 1.02-.2 1.41-.59l7.78-7.78 2.81-2.81c.8-.78.8-2.07 0-2.86zM5.41 20L4 18.59l7.72-7.72 1.47 1.35L5.41 20z\"/>\n",
              "  </svg>\n",
              "      </button>\n",
              "      \n",
              "  <style>\n",
              "    .colab-df-container {\n",
              "      display:flex;\n",
              "      flex-wrap:wrap;\n",
              "      gap: 12px;\n",
              "    }\n",
              "\n",
              "    .colab-df-convert {\n",
              "      background-color: #E8F0FE;\n",
              "      border: none;\n",
              "      border-radius: 50%;\n",
              "      cursor: pointer;\n",
              "      display: none;\n",
              "      fill: #1967D2;\n",
              "      height: 32px;\n",
              "      padding: 0 0 0 0;\n",
              "      width: 32px;\n",
              "    }\n",
              "\n",
              "    .colab-df-convert:hover {\n",
              "      background-color: #E2EBFA;\n",
              "      box-shadow: 0px 1px 2px rgba(60, 64, 67, 0.3), 0px 1px 3px 1px rgba(60, 64, 67, 0.15);\n",
              "      fill: #174EA6;\n",
              "    }\n",
              "\n",
              "    [theme=dark] .colab-df-convert {\n",
              "      background-color: #3B4455;\n",
              "      fill: #D2E3FC;\n",
              "    }\n",
              "\n",
              "    [theme=dark] .colab-df-convert:hover {\n",
              "      background-color: #434B5C;\n",
              "      box-shadow: 0px 1px 3px 1px rgba(0, 0, 0, 0.15);\n",
              "      filter: drop-shadow(0px 1px 2px rgba(0, 0, 0, 0.3));\n",
              "      fill: #FFFFFF;\n",
              "    }\n",
              "  </style>\n",
              "\n",
              "      <script>\n",
              "        const buttonEl =\n",
              "          document.querySelector('#df-992f37e3-5b85-412f-a5c4-9f6a2cdd10e3 button.colab-df-convert');\n",
              "        buttonEl.style.display =\n",
              "          google.colab.kernel.accessAllowed ? 'block' : 'none';\n",
              "\n",
              "        async function convertToInteractive(key) {\n",
              "          const element = document.querySelector('#df-992f37e3-5b85-412f-a5c4-9f6a2cdd10e3');\n",
              "          const dataTable =\n",
              "            await google.colab.kernel.invokeFunction('convertToInteractive',\n",
              "                                                     [key], {});\n",
              "          if (!dataTable) return;\n",
              "\n",
              "          const docLinkHtml = 'Like what you see? Visit the ' +\n",
              "            '<a target=\"_blank\" href=https://colab.research.google.com/notebooks/data_table.ipynb>data table notebook</a>'\n",
              "            + ' to learn more about interactive tables.';\n",
              "          element.innerHTML = '';\n",
              "          dataTable['output_type'] = 'display_data';\n",
              "          await google.colab.output.renderOutput(dataTable, element);\n",
              "          const docLink = document.createElement('div');\n",
              "          docLink.innerHTML = docLinkHtml;\n",
              "          element.appendChild(docLink);\n",
              "        }\n",
              "      </script>\n",
              "    </div>\n",
              "  </div>\n",
              "  "
            ]
          },
          "metadata": {},
          "execution_count": 190
        }
      ]
    },
    {
      "cell_type": "code",
      "source": [
        "total_data=total_data.dropna()"
      ],
      "metadata": {
        "id": "ARrGl5YQlqyC"
      },
      "execution_count": null,
      "outputs": []
    },
    {
      "cell_type": "code",
      "source": [
        "len(total_data)"
      ],
      "metadata": {
        "id": "y6a8gWRulsXx",
        "colab": {
          "base_uri": "https://localhost:8080/"
        },
        "outputId": "51e602ad-3fd6-4467-e69b-b1f17673bdc0"
      },
      "execution_count": null,
      "outputs": [
        {
          "output_type": "execute_result",
          "data": {
            "text/plain": [
              "1259"
            ]
          },
          "metadata": {},
          "execution_count": 192
        }
      ]
    },
    {
      "cell_type": "code",
      "source": [
        "n=len(total_data)"
      ],
      "metadata": {
        "id": "SuTtqngJluvK"
      },
      "execution_count": null,
      "outputs": []
    },
    {
      "cell_type": "code",
      "source": [
        "from sklearn.preprocessing import MinMaxScaler"
      ],
      "metadata": {
        "id": "xDp_s9Islwvw"
      },
      "execution_count": null,
      "outputs": []
    },
    {
      "cell_type": "code",
      "source": [
        "scaler=MinMaxScaler()"
      ],
      "metadata": {
        "id": "xDg4NcTJlyT4"
      },
      "execution_count": null,
      "outputs": []
    },
    {
      "cell_type": "code",
      "source": [
        "df_scaled=scaler.fit_transform(total_data.to_numpy())"
      ],
      "metadata": {
        "id": "mmSUXDbQlzyF"
      },
      "execution_count": null,
      "outputs": []
    },
    {
      "cell_type": "code",
      "source": [
        "df_scaled"
      ],
      "metadata": {
        "id": "IUHhge6xl1dB",
        "colab": {
          "base_uri": "https://localhost:8080/"
        },
        "outputId": "a7be5b28-d735-489d-c2c8-dec59337e215"
      },
      "execution_count": null,
      "outputs": [
        {
          "output_type": "execute_result",
          "data": {
            "text/plain": [
              "array([[0.00996847],\n",
              "       [0.01357709],\n",
              "       [0.00807477],\n",
              "       ...,\n",
              "       [0.63996425],\n",
              "       [0.64963909],\n",
              "       [0.64929764]])"
            ]
          },
          "metadata": {},
          "execution_count": 197
        }
      ]
    },
    {
      "cell_type": "code",
      "source": [
        "list(total_data.columns)"
      ],
      "metadata": {
        "id": "qBm2KIVFl4MU",
        "colab": {
          "base_uri": "https://localhost:8080/"
        },
        "outputId": "c3cd13d6-76f2-4b5e-b8ca-1cfcb4a773e9"
      },
      "execution_count": null,
      "outputs": [
        {
          "output_type": "execute_result",
          "data": {
            "text/plain": [
              "['MSFT']"
            ]
          },
          "metadata": {},
          "execution_count": 198
        }
      ]
    },
    {
      "cell_type": "code",
      "source": [
        "df_scaled=pd.DataFrame(df_scaled,columns=list(total_data.columns))"
      ],
      "metadata": {
        "id": "3f4aPXmNl55R"
      },
      "execution_count": null,
      "outputs": []
    },
    {
      "cell_type": "code",
      "source": [
        "df_scaled.head()"
      ],
      "metadata": {
        "id": "idEYD6uRl7gF",
        "colab": {
          "base_uri": "https://localhost:8080/",
          "height": 206
        },
        "outputId": "9124b697-26a9-4cdd-ca4e-5780604b47bd"
      },
      "execution_count": null,
      "outputs": [
        {
          "output_type": "execute_result",
          "data": {
            "text/plain": [
              "       MSFT\n",
              "0  0.009968\n",
              "1  0.013577\n",
              "2  0.008075\n",
              "3  0.011040\n",
              "4  0.011362"
            ],
            "text/html": [
              "\n",
              "  <div id=\"df-41b41c34-4342-45de-b670-3bf50268e370\">\n",
              "    <div class=\"colab-df-container\">\n",
              "      <div>\n",
              "<style scoped>\n",
              "    .dataframe tbody tr th:only-of-type {\n",
              "        vertical-align: middle;\n",
              "    }\n",
              "\n",
              "    .dataframe tbody tr th {\n",
              "        vertical-align: top;\n",
              "    }\n",
              "\n",
              "    .dataframe thead th {\n",
              "        text-align: right;\n",
              "    }\n",
              "</style>\n",
              "<table border=\"1\" class=\"dataframe\">\n",
              "  <thead>\n",
              "    <tr style=\"text-align: right;\">\n",
              "      <th></th>\n",
              "      <th>MSFT</th>\n",
              "    </tr>\n",
              "  </thead>\n",
              "  <tbody>\n",
              "    <tr>\n",
              "      <th>0</th>\n",
              "      <td>0.009968</td>\n",
              "    </tr>\n",
              "    <tr>\n",
              "      <th>1</th>\n",
              "      <td>0.013577</td>\n",
              "    </tr>\n",
              "    <tr>\n",
              "      <th>2</th>\n",
              "      <td>0.008075</td>\n",
              "    </tr>\n",
              "    <tr>\n",
              "      <th>3</th>\n",
              "      <td>0.011040</td>\n",
              "    </tr>\n",
              "    <tr>\n",
              "      <th>4</th>\n",
              "      <td>0.011362</td>\n",
              "    </tr>\n",
              "  </tbody>\n",
              "</table>\n",
              "</div>\n",
              "      <button class=\"colab-df-convert\" onclick=\"convertToInteractive('df-41b41c34-4342-45de-b670-3bf50268e370')\"\n",
              "              title=\"Convert this dataframe to an interactive table.\"\n",
              "              style=\"display:none;\">\n",
              "        \n",
              "  <svg xmlns=\"http://www.w3.org/2000/svg\" height=\"24px\"viewBox=\"0 0 24 24\"\n",
              "       width=\"24px\">\n",
              "    <path d=\"M0 0h24v24H0V0z\" fill=\"none\"/>\n",
              "    <path d=\"M18.56 5.44l.94 2.06.94-2.06 2.06-.94-2.06-.94-.94-2.06-.94 2.06-2.06.94zm-11 1L8.5 8.5l.94-2.06 2.06-.94-2.06-.94L8.5 2.5l-.94 2.06-2.06.94zm10 10l.94 2.06.94-2.06 2.06-.94-2.06-.94-.94-2.06-.94 2.06-2.06.94z\"/><path d=\"M17.41 7.96l-1.37-1.37c-.4-.4-.92-.59-1.43-.59-.52 0-1.04.2-1.43.59L10.3 9.45l-7.72 7.72c-.78.78-.78 2.05 0 2.83L4 21.41c.39.39.9.59 1.41.59.51 0 1.02-.2 1.41-.59l7.78-7.78 2.81-2.81c.8-.78.8-2.07 0-2.86zM5.41 20L4 18.59l7.72-7.72 1.47 1.35L5.41 20z\"/>\n",
              "  </svg>\n",
              "      </button>\n",
              "      \n",
              "  <style>\n",
              "    .colab-df-container {\n",
              "      display:flex;\n",
              "      flex-wrap:wrap;\n",
              "      gap: 12px;\n",
              "    }\n",
              "\n",
              "    .colab-df-convert {\n",
              "      background-color: #E8F0FE;\n",
              "      border: none;\n",
              "      border-radius: 50%;\n",
              "      cursor: pointer;\n",
              "      display: none;\n",
              "      fill: #1967D2;\n",
              "      height: 32px;\n",
              "      padding: 0 0 0 0;\n",
              "      width: 32px;\n",
              "    }\n",
              "\n",
              "    .colab-df-convert:hover {\n",
              "      background-color: #E2EBFA;\n",
              "      box-shadow: 0px 1px 2px rgba(60, 64, 67, 0.3), 0px 1px 3px 1px rgba(60, 64, 67, 0.15);\n",
              "      fill: #174EA6;\n",
              "    }\n",
              "\n",
              "    [theme=dark] .colab-df-convert {\n",
              "      background-color: #3B4455;\n",
              "      fill: #D2E3FC;\n",
              "    }\n",
              "\n",
              "    [theme=dark] .colab-df-convert:hover {\n",
              "      background-color: #434B5C;\n",
              "      box-shadow: 0px 1px 3px 1px rgba(0, 0, 0, 0.15);\n",
              "      filter: drop-shadow(0px 1px 2px rgba(0, 0, 0, 0.3));\n",
              "      fill: #FFFFFF;\n",
              "    }\n",
              "  </style>\n",
              "\n",
              "      <script>\n",
              "        const buttonEl =\n",
              "          document.querySelector('#df-41b41c34-4342-45de-b670-3bf50268e370 button.colab-df-convert');\n",
              "        buttonEl.style.display =\n",
              "          google.colab.kernel.accessAllowed ? 'block' : 'none';\n",
              "\n",
              "        async function convertToInteractive(key) {\n",
              "          const element = document.querySelector('#df-41b41c34-4342-45de-b670-3bf50268e370');\n",
              "          const dataTable =\n",
              "            await google.colab.kernel.invokeFunction('convertToInteractive',\n",
              "                                                     [key], {});\n",
              "          if (!dataTable) return;\n",
              "\n",
              "          const docLinkHtml = 'Like what you see? Visit the ' +\n",
              "            '<a target=\"_blank\" href=https://colab.research.google.com/notebooks/data_table.ipynb>data table notebook</a>'\n",
              "            + ' to learn more about interactive tables.';\n",
              "          element.innerHTML = '';\n",
              "          dataTable['output_type'] = 'display_data';\n",
              "          await google.colab.output.renderOutput(dataTable, element);\n",
              "          const docLink = document.createElement('div');\n",
              "          docLink.innerHTML = docLinkHtml;\n",
              "          element.appendChild(docLink);\n",
              "        }\n",
              "      </script>\n",
              "    </div>\n",
              "  </div>\n",
              "  "
            ]
          },
          "metadata": {},
          "execution_count": 200
        }
      ]
    },
    {
      "cell_type": "code",
      "source": [
        "df_scaled.index=date_time"
      ],
      "metadata": {
        "id": "_g1unWbcl9w7"
      },
      "execution_count": null,
      "outputs": []
    },
    {
      "cell_type": "code",
      "source": [
        "df_scaled.head()"
      ],
      "metadata": {
        "id": "Oa7MmkJRl_E5",
        "colab": {
          "base_uri": "https://localhost:8080/",
          "height": 237
        },
        "outputId": "cc1e0fa2-dc7c-442e-fd7a-99bc508b6315"
      },
      "execution_count": null,
      "outputs": [
        {
          "output_type": "execute_result",
          "data": {
            "text/plain": [
              "                MSFT\n",
              "Date                \n",
              "2017-11-27  0.009968\n",
              "2017-11-28  0.013577\n",
              "2017-11-29  0.008075\n",
              "2017-11-30  0.011040\n",
              "2017-12-01  0.011362"
            ],
            "text/html": [
              "\n",
              "  <div id=\"df-72c8c6d4-da1e-403c-a623-ef483cfaa4a1\">\n",
              "    <div class=\"colab-df-container\">\n",
              "      <div>\n",
              "<style scoped>\n",
              "    .dataframe tbody tr th:only-of-type {\n",
              "        vertical-align: middle;\n",
              "    }\n",
              "\n",
              "    .dataframe tbody tr th {\n",
              "        vertical-align: top;\n",
              "    }\n",
              "\n",
              "    .dataframe thead th {\n",
              "        text-align: right;\n",
              "    }\n",
              "</style>\n",
              "<table border=\"1\" class=\"dataframe\">\n",
              "  <thead>\n",
              "    <tr style=\"text-align: right;\">\n",
              "      <th></th>\n",
              "      <th>MSFT</th>\n",
              "    </tr>\n",
              "    <tr>\n",
              "      <th>Date</th>\n",
              "      <th></th>\n",
              "    </tr>\n",
              "  </thead>\n",
              "  <tbody>\n",
              "    <tr>\n",
              "      <th>2017-11-27</th>\n",
              "      <td>0.009968</td>\n",
              "    </tr>\n",
              "    <tr>\n",
              "      <th>2017-11-28</th>\n",
              "      <td>0.013577</td>\n",
              "    </tr>\n",
              "    <tr>\n",
              "      <th>2017-11-29</th>\n",
              "      <td>0.008075</td>\n",
              "    </tr>\n",
              "    <tr>\n",
              "      <th>2017-11-30</th>\n",
              "      <td>0.011040</td>\n",
              "    </tr>\n",
              "    <tr>\n",
              "      <th>2017-12-01</th>\n",
              "      <td>0.011362</td>\n",
              "    </tr>\n",
              "  </tbody>\n",
              "</table>\n",
              "</div>\n",
              "      <button class=\"colab-df-convert\" onclick=\"convertToInteractive('df-72c8c6d4-da1e-403c-a623-ef483cfaa4a1')\"\n",
              "              title=\"Convert this dataframe to an interactive table.\"\n",
              "              style=\"display:none;\">\n",
              "        \n",
              "  <svg xmlns=\"http://www.w3.org/2000/svg\" height=\"24px\"viewBox=\"0 0 24 24\"\n",
              "       width=\"24px\">\n",
              "    <path d=\"M0 0h24v24H0V0z\" fill=\"none\"/>\n",
              "    <path d=\"M18.56 5.44l.94 2.06.94-2.06 2.06-.94-2.06-.94-.94-2.06-.94 2.06-2.06.94zm-11 1L8.5 8.5l.94-2.06 2.06-.94-2.06-.94L8.5 2.5l-.94 2.06-2.06.94zm10 10l.94 2.06.94-2.06 2.06-.94-2.06-.94-.94-2.06-.94 2.06-2.06.94z\"/><path d=\"M17.41 7.96l-1.37-1.37c-.4-.4-.92-.59-1.43-.59-.52 0-1.04.2-1.43.59L10.3 9.45l-7.72 7.72c-.78.78-.78 2.05 0 2.83L4 21.41c.39.39.9.59 1.41.59.51 0 1.02-.2 1.41-.59l7.78-7.78 2.81-2.81c.8-.78.8-2.07 0-2.86zM5.41 20L4 18.59l7.72-7.72 1.47 1.35L5.41 20z\"/>\n",
              "  </svg>\n",
              "      </button>\n",
              "      \n",
              "  <style>\n",
              "    .colab-df-container {\n",
              "      display:flex;\n",
              "      flex-wrap:wrap;\n",
              "      gap: 12px;\n",
              "    }\n",
              "\n",
              "    .colab-df-convert {\n",
              "      background-color: #E8F0FE;\n",
              "      border: none;\n",
              "      border-radius: 50%;\n",
              "      cursor: pointer;\n",
              "      display: none;\n",
              "      fill: #1967D2;\n",
              "      height: 32px;\n",
              "      padding: 0 0 0 0;\n",
              "      width: 32px;\n",
              "    }\n",
              "\n",
              "    .colab-df-convert:hover {\n",
              "      background-color: #E2EBFA;\n",
              "      box-shadow: 0px 1px 2px rgba(60, 64, 67, 0.3), 0px 1px 3px 1px rgba(60, 64, 67, 0.15);\n",
              "      fill: #174EA6;\n",
              "    }\n",
              "\n",
              "    [theme=dark] .colab-df-convert {\n",
              "      background-color: #3B4455;\n",
              "      fill: #D2E3FC;\n",
              "    }\n",
              "\n",
              "    [theme=dark] .colab-df-convert:hover {\n",
              "      background-color: #434B5C;\n",
              "      box-shadow: 0px 1px 3px 1px rgba(0, 0, 0, 0.15);\n",
              "      filter: drop-shadow(0px 1px 2px rgba(0, 0, 0, 0.3));\n",
              "      fill: #FFFFFF;\n",
              "    }\n",
              "  </style>\n",
              "\n",
              "      <script>\n",
              "        const buttonEl =\n",
              "          document.querySelector('#df-72c8c6d4-da1e-403c-a623-ef483cfaa4a1 button.colab-df-convert');\n",
              "        buttonEl.style.display =\n",
              "          google.colab.kernel.accessAllowed ? 'block' : 'none';\n",
              "\n",
              "        async function convertToInteractive(key) {\n",
              "          const element = document.querySelector('#df-72c8c6d4-da1e-403c-a623-ef483cfaa4a1');\n",
              "          const dataTable =\n",
              "            await google.colab.kernel.invokeFunction('convertToInteractive',\n",
              "                                                     [key], {});\n",
              "          if (!dataTable) return;\n",
              "\n",
              "          const docLinkHtml = 'Like what you see? Visit the ' +\n",
              "            '<a target=\"_blank\" href=https://colab.research.google.com/notebooks/data_table.ipynb>data table notebook</a>'\n",
              "            + ' to learn more about interactive tables.';\n",
              "          element.innerHTML = '';\n",
              "          dataTable['output_type'] = 'display_data';\n",
              "          await google.colab.output.renderOutput(dataTable, element);\n",
              "          const docLink = document.createElement('div');\n",
              "          docLink.innerHTML = docLinkHtml;\n",
              "          element.appendChild(docLink);\n",
              "        }\n",
              "      </script>\n",
              "    </div>\n",
              "  </div>\n",
              "  "
            ]
          },
          "metadata": {},
          "execution_count": 202
        }
      ]
    },
    {
      "cell_type": "code",
      "source": [
        "total_data=df_scaled"
      ],
      "metadata": {
        "id": "mrcnXaOXmBKK"
      },
      "execution_count": null,
      "outputs": []
    },
    {
      "cell_type": "code",
      "source": [
        "total_data.head()"
      ],
      "metadata": {
        "id": "D2LQihpFmCgx",
        "colab": {
          "base_uri": "https://localhost:8080/",
          "height": 237
        },
        "outputId": "a48dacc2-03f1-4ea8-d2f7-ee9f4617a84c"
      },
      "execution_count": null,
      "outputs": [
        {
          "output_type": "execute_result",
          "data": {
            "text/plain": [
              "                MSFT\n",
              "Date                \n",
              "2017-11-27  0.009968\n",
              "2017-11-28  0.013577\n",
              "2017-11-29  0.008075\n",
              "2017-11-30  0.011040\n",
              "2017-12-01  0.011362"
            ],
            "text/html": [
              "\n",
              "  <div id=\"df-fd5d92cb-00de-459d-ae93-9b0f2a1eb518\">\n",
              "    <div class=\"colab-df-container\">\n",
              "      <div>\n",
              "<style scoped>\n",
              "    .dataframe tbody tr th:only-of-type {\n",
              "        vertical-align: middle;\n",
              "    }\n",
              "\n",
              "    .dataframe tbody tr th {\n",
              "        vertical-align: top;\n",
              "    }\n",
              "\n",
              "    .dataframe thead th {\n",
              "        text-align: right;\n",
              "    }\n",
              "</style>\n",
              "<table border=\"1\" class=\"dataframe\">\n",
              "  <thead>\n",
              "    <tr style=\"text-align: right;\">\n",
              "      <th></th>\n",
              "      <th>MSFT</th>\n",
              "    </tr>\n",
              "    <tr>\n",
              "      <th>Date</th>\n",
              "      <th></th>\n",
              "    </tr>\n",
              "  </thead>\n",
              "  <tbody>\n",
              "    <tr>\n",
              "      <th>2017-11-27</th>\n",
              "      <td>0.009968</td>\n",
              "    </tr>\n",
              "    <tr>\n",
              "      <th>2017-11-28</th>\n",
              "      <td>0.013577</td>\n",
              "    </tr>\n",
              "    <tr>\n",
              "      <th>2017-11-29</th>\n",
              "      <td>0.008075</td>\n",
              "    </tr>\n",
              "    <tr>\n",
              "      <th>2017-11-30</th>\n",
              "      <td>0.011040</td>\n",
              "    </tr>\n",
              "    <tr>\n",
              "      <th>2017-12-01</th>\n",
              "      <td>0.011362</td>\n",
              "    </tr>\n",
              "  </tbody>\n",
              "</table>\n",
              "</div>\n",
              "      <button class=\"colab-df-convert\" onclick=\"convertToInteractive('df-fd5d92cb-00de-459d-ae93-9b0f2a1eb518')\"\n",
              "              title=\"Convert this dataframe to an interactive table.\"\n",
              "              style=\"display:none;\">\n",
              "        \n",
              "  <svg xmlns=\"http://www.w3.org/2000/svg\" height=\"24px\"viewBox=\"0 0 24 24\"\n",
              "       width=\"24px\">\n",
              "    <path d=\"M0 0h24v24H0V0z\" fill=\"none\"/>\n",
              "    <path d=\"M18.56 5.44l.94 2.06.94-2.06 2.06-.94-2.06-.94-.94-2.06-.94 2.06-2.06.94zm-11 1L8.5 8.5l.94-2.06 2.06-.94-2.06-.94L8.5 2.5l-.94 2.06-2.06.94zm10 10l.94 2.06.94-2.06 2.06-.94-2.06-.94-.94-2.06-.94 2.06-2.06.94z\"/><path d=\"M17.41 7.96l-1.37-1.37c-.4-.4-.92-.59-1.43-.59-.52 0-1.04.2-1.43.59L10.3 9.45l-7.72 7.72c-.78.78-.78 2.05 0 2.83L4 21.41c.39.39.9.59 1.41.59.51 0 1.02-.2 1.41-.59l7.78-7.78 2.81-2.81c.8-.78.8-2.07 0-2.86zM5.41 20L4 18.59l7.72-7.72 1.47 1.35L5.41 20z\"/>\n",
              "  </svg>\n",
              "      </button>\n",
              "      \n",
              "  <style>\n",
              "    .colab-df-container {\n",
              "      display:flex;\n",
              "      flex-wrap:wrap;\n",
              "      gap: 12px;\n",
              "    }\n",
              "\n",
              "    .colab-df-convert {\n",
              "      background-color: #E8F0FE;\n",
              "      border: none;\n",
              "      border-radius: 50%;\n",
              "      cursor: pointer;\n",
              "      display: none;\n",
              "      fill: #1967D2;\n",
              "      height: 32px;\n",
              "      padding: 0 0 0 0;\n",
              "      width: 32px;\n",
              "    }\n",
              "\n",
              "    .colab-df-convert:hover {\n",
              "      background-color: #E2EBFA;\n",
              "      box-shadow: 0px 1px 2px rgba(60, 64, 67, 0.3), 0px 1px 3px 1px rgba(60, 64, 67, 0.15);\n",
              "      fill: #174EA6;\n",
              "    }\n",
              "\n",
              "    [theme=dark] .colab-df-convert {\n",
              "      background-color: #3B4455;\n",
              "      fill: #D2E3FC;\n",
              "    }\n",
              "\n",
              "    [theme=dark] .colab-df-convert:hover {\n",
              "      background-color: #434B5C;\n",
              "      box-shadow: 0px 1px 3px 1px rgba(0, 0, 0, 0.15);\n",
              "      filter: drop-shadow(0px 1px 2px rgba(0, 0, 0, 0.3));\n",
              "      fill: #FFFFFF;\n",
              "    }\n",
              "  </style>\n",
              "\n",
              "      <script>\n",
              "        const buttonEl =\n",
              "          document.querySelector('#df-fd5d92cb-00de-459d-ae93-9b0f2a1eb518 button.colab-df-convert');\n",
              "        buttonEl.style.display =\n",
              "          google.colab.kernel.accessAllowed ? 'block' : 'none';\n",
              "\n",
              "        async function convertToInteractive(key) {\n",
              "          const element = document.querySelector('#df-fd5d92cb-00de-459d-ae93-9b0f2a1eb518');\n",
              "          const dataTable =\n",
              "            await google.colab.kernel.invokeFunction('convertToInteractive',\n",
              "                                                     [key], {});\n",
              "          if (!dataTable) return;\n",
              "\n",
              "          const docLinkHtml = 'Like what you see? Visit the ' +\n",
              "            '<a target=\"_blank\" href=https://colab.research.google.com/notebooks/data_table.ipynb>data table notebook</a>'\n",
              "            + ' to learn more about interactive tables.';\n",
              "          element.innerHTML = '';\n",
              "          dataTable['output_type'] = 'display_data';\n",
              "          await google.colab.output.renderOutput(dataTable, element);\n",
              "          const docLink = document.createElement('div');\n",
              "          docLink.innerHTML = docLinkHtml;\n",
              "          element.appendChild(docLink);\n",
              "        }\n",
              "      </script>\n",
              "    </div>\n",
              "  </div>\n",
              "  "
            ]
          },
          "metadata": {},
          "execution_count": 204
        }
      ]
    },
    {
      "cell_type": "code",
      "source": [
        "total_data=total_data[['MSFT']]"
      ],
      "metadata": {
        "id": "RIz7T0GCmFKT"
      },
      "execution_count": null,
      "outputs": []
    },
    {
      "cell_type": "code",
      "source": [
        "total_data.head()"
      ],
      "metadata": {
        "id": "zSy632W-mGpK",
        "colab": {
          "base_uri": "https://localhost:8080/",
          "height": 237
        },
        "outputId": "019930a9-d06b-4bb4-a0d5-1f69edb07295"
      },
      "execution_count": null,
      "outputs": [
        {
          "output_type": "execute_result",
          "data": {
            "text/plain": [
              "                MSFT\n",
              "Date                \n",
              "2017-11-27  0.009968\n",
              "2017-11-28  0.013577\n",
              "2017-11-29  0.008075\n",
              "2017-11-30  0.011040\n",
              "2017-12-01  0.011362"
            ],
            "text/html": [
              "\n",
              "  <div id=\"df-d1228a3a-75ac-4e38-8999-828a8424cf95\">\n",
              "    <div class=\"colab-df-container\">\n",
              "      <div>\n",
              "<style scoped>\n",
              "    .dataframe tbody tr th:only-of-type {\n",
              "        vertical-align: middle;\n",
              "    }\n",
              "\n",
              "    .dataframe tbody tr th {\n",
              "        vertical-align: top;\n",
              "    }\n",
              "\n",
              "    .dataframe thead th {\n",
              "        text-align: right;\n",
              "    }\n",
              "</style>\n",
              "<table border=\"1\" class=\"dataframe\">\n",
              "  <thead>\n",
              "    <tr style=\"text-align: right;\">\n",
              "      <th></th>\n",
              "      <th>MSFT</th>\n",
              "    </tr>\n",
              "    <tr>\n",
              "      <th>Date</th>\n",
              "      <th></th>\n",
              "    </tr>\n",
              "  </thead>\n",
              "  <tbody>\n",
              "    <tr>\n",
              "      <th>2017-11-27</th>\n",
              "      <td>0.009968</td>\n",
              "    </tr>\n",
              "    <tr>\n",
              "      <th>2017-11-28</th>\n",
              "      <td>0.013577</td>\n",
              "    </tr>\n",
              "    <tr>\n",
              "      <th>2017-11-29</th>\n",
              "      <td>0.008075</td>\n",
              "    </tr>\n",
              "    <tr>\n",
              "      <th>2017-11-30</th>\n",
              "      <td>0.011040</td>\n",
              "    </tr>\n",
              "    <tr>\n",
              "      <th>2017-12-01</th>\n",
              "      <td>0.011362</td>\n",
              "    </tr>\n",
              "  </tbody>\n",
              "</table>\n",
              "</div>\n",
              "      <button class=\"colab-df-convert\" onclick=\"convertToInteractive('df-d1228a3a-75ac-4e38-8999-828a8424cf95')\"\n",
              "              title=\"Convert this dataframe to an interactive table.\"\n",
              "              style=\"display:none;\">\n",
              "        \n",
              "  <svg xmlns=\"http://www.w3.org/2000/svg\" height=\"24px\"viewBox=\"0 0 24 24\"\n",
              "       width=\"24px\">\n",
              "    <path d=\"M0 0h24v24H0V0z\" fill=\"none\"/>\n",
              "    <path d=\"M18.56 5.44l.94 2.06.94-2.06 2.06-.94-2.06-.94-.94-2.06-.94 2.06-2.06.94zm-11 1L8.5 8.5l.94-2.06 2.06-.94-2.06-.94L8.5 2.5l-.94 2.06-2.06.94zm10 10l.94 2.06.94-2.06 2.06-.94-2.06-.94-.94-2.06-.94 2.06-2.06.94z\"/><path d=\"M17.41 7.96l-1.37-1.37c-.4-.4-.92-.59-1.43-.59-.52 0-1.04.2-1.43.59L10.3 9.45l-7.72 7.72c-.78.78-.78 2.05 0 2.83L4 21.41c.39.39.9.59 1.41.59.51 0 1.02-.2 1.41-.59l7.78-7.78 2.81-2.81c.8-.78.8-2.07 0-2.86zM5.41 20L4 18.59l7.72-7.72 1.47 1.35L5.41 20z\"/>\n",
              "  </svg>\n",
              "      </button>\n",
              "      \n",
              "  <style>\n",
              "    .colab-df-container {\n",
              "      display:flex;\n",
              "      flex-wrap:wrap;\n",
              "      gap: 12px;\n",
              "    }\n",
              "\n",
              "    .colab-df-convert {\n",
              "      background-color: #E8F0FE;\n",
              "      border: none;\n",
              "      border-radius: 50%;\n",
              "      cursor: pointer;\n",
              "      display: none;\n",
              "      fill: #1967D2;\n",
              "      height: 32px;\n",
              "      padding: 0 0 0 0;\n",
              "      width: 32px;\n",
              "    }\n",
              "\n",
              "    .colab-df-convert:hover {\n",
              "      background-color: #E2EBFA;\n",
              "      box-shadow: 0px 1px 2px rgba(60, 64, 67, 0.3), 0px 1px 3px 1px rgba(60, 64, 67, 0.15);\n",
              "      fill: #174EA6;\n",
              "    }\n",
              "\n",
              "    [theme=dark] .colab-df-convert {\n",
              "      background-color: #3B4455;\n",
              "      fill: #D2E3FC;\n",
              "    }\n",
              "\n",
              "    [theme=dark] .colab-df-convert:hover {\n",
              "      background-color: #434B5C;\n",
              "      box-shadow: 0px 1px 3px 1px rgba(0, 0, 0, 0.15);\n",
              "      filter: drop-shadow(0px 1px 2px rgba(0, 0, 0, 0.3));\n",
              "      fill: #FFFFFF;\n",
              "    }\n",
              "  </style>\n",
              "\n",
              "      <script>\n",
              "        const buttonEl =\n",
              "          document.querySelector('#df-d1228a3a-75ac-4e38-8999-828a8424cf95 button.colab-df-convert');\n",
              "        buttonEl.style.display =\n",
              "          google.colab.kernel.accessAllowed ? 'block' : 'none';\n",
              "\n",
              "        async function convertToInteractive(key) {\n",
              "          const element = document.querySelector('#df-d1228a3a-75ac-4e38-8999-828a8424cf95');\n",
              "          const dataTable =\n",
              "            await google.colab.kernel.invokeFunction('convertToInteractive',\n",
              "                                                     [key], {});\n",
              "          if (!dataTable) return;\n",
              "\n",
              "          const docLinkHtml = 'Like what you see? Visit the ' +\n",
              "            '<a target=\"_blank\" href=https://colab.research.google.com/notebooks/data_table.ipynb>data table notebook</a>'\n",
              "            + ' to learn more about interactive tables.';\n",
              "          element.innerHTML = '';\n",
              "          dataTable['output_type'] = 'display_data';\n",
              "          await google.colab.output.renderOutput(dataTable, element);\n",
              "          const docLink = document.createElement('div');\n",
              "          docLink.innerHTML = docLinkHtml;\n",
              "          element.appendChild(docLink);\n",
              "        }\n",
              "      </script>\n",
              "    </div>\n",
              "  </div>\n",
              "  "
            ]
          },
          "metadata": {},
          "execution_count": 206
        }
      ]
    },
    {
      "cell_type": "code",
      "source": [
        "train_df=total_data[:int(n*0.7)]\n",
        "val_df=total_data[int(n*0.7):int(n*0.9)]\n",
        "test_df=total_data[int(n*0.9):]\n",
        "\n",
        "num_features=total_data.shape[1]"
      ],
      "metadata": {
        "id": "FphYNnipmIeq"
      },
      "execution_count": null,
      "outputs": []
    },
    {
      "cell_type": "code",
      "source": [
        "len(train_df)"
      ],
      "metadata": {
        "id": "gyZAlu5xmK6a",
        "colab": {
          "base_uri": "https://localhost:8080/"
        },
        "outputId": "758e505a-429a-4107-98d3-252bc6061dfa"
      },
      "execution_count": null,
      "outputs": [
        {
          "output_type": "execute_result",
          "data": {
            "text/plain": [
              "881"
            ]
          },
          "metadata": {},
          "execution_count": 208
        }
      ]
    },
    {
      "cell_type": "code",
      "source": [
        "num_features"
      ],
      "metadata": {
        "id": "fNLdQMH2mMbK",
        "colab": {
          "base_uri": "https://localhost:8080/"
        },
        "outputId": "a8a01ef6-4cf2-4654-862c-1475e24bea05"
      },
      "execution_count": null,
      "outputs": [
        {
          "output_type": "execute_result",
          "data": {
            "text/plain": [
              "1"
            ]
          },
          "metadata": {},
          "execution_count": 209
        }
      ]
    },
    {
      "cell_type": "code",
      "source": [
        "class WindowGenerator():\n",
        "  def __init__(self,input_width, label_width, shift,\n",
        "               train_df=train_df,val_df=val_df,test_df=test_df,\n",
        "               label_columns=None):\n",
        "     #Store the raw data\n",
        "     self.train_df=train_df\n",
        "     self.val_df=val_df\n",
        "     self.test_df=test_df\n",
        "\n",
        "     #work out the label column indices\n",
        "     self.label_columns=label_columns\n",
        "     if label_columns is not None:\n",
        "       self.label_columns_indices={name:i for i,name in enumerate(label_columns)}\n",
        "     self.column_indices={name:i for i,name in enumerate(train_df.columns)}\n",
        "\n",
        "     #Work out the window parameters\n",
        "     self.input_width=input_width\n",
        "     self.label_width=label_width\n",
        "     self.shift=shift\n",
        "\n",
        "     self.total_window_size=input_width+shift\n",
        "\n",
        "     self.input_slice=slice(0,input_width)\n",
        "     self.input_indices=np.arange(self.total_window_size)[self.input_slice]\n",
        "\n",
        "     self.label_start=self.total_window_size-self.label_width\n",
        "     self.labels_slice=slice(self.label_start,None)\n",
        "     self.label_indices=np.arange(self.total_window_size)[self.labels_slice]\n",
        "\n",
        "  def __repr__(self):\n",
        "    return '\\n'.join([\n",
        "        f'Total window size:{self.total_window_size}',\n",
        "        f'Input indices:{self.input_indices}',\n",
        "        f'Label indices:{self.label_indices}',\n",
        "        f'Label column name(s):{self.label_columns}'\n",
        "    ]) "
      ],
      "metadata": {
        "id": "UYstjXIYmO97"
      },
      "execution_count": null,
      "outputs": []
    },
    {
      "cell_type": "code",
      "source": [
        "def split_window(self,features):\n",
        "  inputs=features[:,self.input_slice,:]\n",
        "  labels=features[:,self.labels_slice,:]\n",
        "  if self.label_columns is not None:\n",
        "    labels=tf.stack(\n",
        "        [labels[:,:,self.column_indices[name]] for name in self.label_columns],\n",
        "                    axis=-1)\n",
        "    \n",
        "  #slicing doesn't preserve statics shape information, so set the shapes\n",
        "  #munually. This way the 'tf.datasets' are eaiser to inspect\n",
        "  inputs.set_shape([None,self.input_width,None])\n",
        "  labels.set_shape([None,self.label_width,None])\n",
        "\n",
        "  return inputs,labels\n",
        "\n",
        "WindowGenerator.split_window=split_window  "
      ],
      "metadata": {
        "id": "hyS26sRNmRHz"
      },
      "execution_count": null,
      "outputs": []
    },
    {
      "cell_type": "code",
      "source": [
        "def make_dataset(self, data):\n",
        "  data = np.array(data, dtype=np.float32)\n",
        "  ds = tf.keras.utils.timeseries_dataset_from_array(\n",
        "      data=data,\n",
        "      targets=None,\n",
        "      sequence_length=self.total_window_size,\n",
        "      sequence_stride=1,\n",
        "      shuffle=True,\n",
        "      batch_size=32,)\n",
        "\n",
        "  ds = ds.map(self.split_window)\n",
        "\n",
        "  return ds\n",
        "\n",
        "WindowGenerator.make_dataset = make_dataset"
      ],
      "metadata": {
        "id": "I-0ztoSzmSxE"
      },
      "execution_count": null,
      "outputs": []
    },
    {
      "cell_type": "code",
      "source": [
        "@property\n",
        "def train(self):\n",
        "  return self.make_dataset(self.train_df)\n",
        "\n",
        "@property\n",
        "def val(self):\n",
        "  return self.make_dataset(self.val_df)\n",
        "\n",
        "@property\n",
        "def test(self):\n",
        "  return self.make_dataset(self.test_df)\n",
        "\n",
        "@property\n",
        "def example(self):\n",
        "  \"\"\"Get and cache an example batch of `inputs, labels` for plotting.\"\"\"\n",
        "  result = getattr(self, '_example', None)\n",
        "  if result is None:\n",
        "    # No example batch was found, so get one from the `.train` dataset\n",
        "    result = next(iter(self.train))\n",
        "    # And cache it for next time\n",
        "    self._example = result\n",
        "  return result\n",
        "\n",
        "WindowGenerator.train = train\n",
        "WindowGenerator.val = val\n",
        "WindowGenerator.test = test\n",
        "WindowGenerator.example = example"
      ],
      "metadata": {
        "id": "4ar1uajhmVBK"
      },
      "execution_count": null,
      "outputs": []
    },
    {
      "cell_type": "code",
      "source": [
        "MAX_EPOCHS = 50\n",
        "\n",
        "def compile_and_fit(model, window, patience=8):\n",
        "  early_stopping = tf.keras.callbacks.EarlyStopping(monitor='val_loss',patience=patience)\n",
        "\n",
        "\n",
        "  model.compile(loss=tf.keras.losses.MeanSquaredError(),\n",
        "         # loss='mae',      \n",
        "                optimizer=tf.keras.optimizers.Adam(),\n",
        "                #optimizer=tf.keras.optimizers.RMSprop(0.0001),\n",
        "                metrics=[tf.keras.metrics.MeanAbsoluteError()])\n",
        "\n",
        "  history = model.fit(window.train, epochs=MAX_EPOCHS,\n",
        "                      validation_data=window.val,\n",
        "                      callbacks=[early_stopping])\n",
        "  return history"
      ],
      "metadata": {
        "id": "P19JMG5JmXQL"
      },
      "execution_count": null,
      "outputs": []
    },
    {
      "cell_type": "code",
      "source": [
        "OUT_STEPS=60"
      ],
      "metadata": {
        "id": "FVA2fmI1mb1L"
      },
      "execution_count": null,
      "outputs": []
    },
    {
      "cell_type": "code",
      "source": [
        "wide_window=WindowGenerator(input_width=90,label_width=OUT_STEPS,shift=OUT_STEPS)"
      ],
      "metadata": {
        "id": "cy6pCniombYL"
      },
      "execution_count": null,
      "outputs": []
    },
    {
      "cell_type": "code",
      "source": [
        "wide_window"
      ],
      "metadata": {
        "id": "q1vrQZtUmvkz",
        "colab": {
          "base_uri": "https://localhost:8080/"
        },
        "outputId": "d5a7bebc-b95c-4a22-a935-4567cfc434d6"
      },
      "execution_count": null,
      "outputs": [
        {
          "output_type": "execute_result",
          "data": {
            "text/plain": [
              "Total window size:150\n",
              "Input indices:[ 0  1  2  3  4  5  6  7  8  9 10 11 12 13 14 15 16 17 18 19 20 21 22 23\n",
              " 24 25 26 27 28 29 30 31 32 33 34 35 36 37 38 39 40 41 42 43 44 45 46 47\n",
              " 48 49 50 51 52 53 54 55 56 57 58 59 60 61 62 63 64 65 66 67 68 69 70 71\n",
              " 72 73 74 75 76 77 78 79 80 81 82 83 84 85 86 87 88 89]\n",
              "Label indices:[ 90  91  92  93  94  95  96  97  98  99 100 101 102 103 104 105 106 107\n",
              " 108 109 110 111 112 113 114 115 116 117 118 119 120 121 122 123 124 125\n",
              " 126 127 128 129 130 131 132 133 134 135 136 137 138 139 140 141 142 143\n",
              " 144 145 146 147 148 149]\n",
              "Label column name(s):None"
            ]
          },
          "metadata": {},
          "execution_count": 217
        }
      ]
    },
    {
      "cell_type": "code",
      "source": [
        "tf.random.set_seed(123)"
      ],
      "metadata": {
        "id": "SRCTjgYhSIiu"
      },
      "execution_count": null,
      "outputs": []
    },
    {
      "cell_type": "code",
      "source": [
        "multi_lstm=tf.keras.Sequential([ \n",
        "    tf.keras.layers.LSTM(128,return_sequences=True),\n",
        "    tf.keras.layers.Dropout(0.3),\n",
        "    tf.keras.layers.LSTM(64,return_sequences=True),\n",
        "    tf.keras.layers.Dropout(0.2),\n",
        "    tf.keras.layers.LSTM(32,return_sequences=False),\n",
        "    tf.keras.layers.Dense(OUT_STEPS*num_features),\n",
        "    tf.keras.layers.Reshape([OUT_STEPS,num_features])\n",
        "])"
      ],
      "metadata": {
        "id": "u63Kpt31mzTy"
      },
      "execution_count": null,
      "outputs": []
    },
    {
      "cell_type": "code",
      "source": [
        "history=compile_and_fit(multi_lstm,wide_window)"
      ],
      "metadata": {
        "id": "2sUDCPE_nKca",
        "colab": {
          "base_uri": "https://localhost:8080/"
        },
        "outputId": "ab0f7dbb-0fa2-4d8d-d0ac-095ceb17e999"
      },
      "execution_count": null,
      "outputs": [
        {
          "output_type": "stream",
          "name": "stdout",
          "text": [
            "Epoch 1/50\n",
            "23/23 [==============================] - 13s 296ms/step - loss: 0.0736 - mean_absolute_error: 0.2052 - val_loss: 0.3027 - val_mean_absolute_error: 0.4857\n",
            "Epoch 2/50\n",
            "23/23 [==============================] - 5s 236ms/step - loss: 0.0133 - mean_absolute_error: 0.0733 - val_loss: 0.0911 - val_mean_absolute_error: 0.2702\n",
            "Epoch 3/50\n",
            "23/23 [==============================] - 5s 236ms/step - loss: 0.0025 - mean_absolute_error: 0.0371 - val_loss: 0.0570 - val_mean_absolute_error: 0.2180\n",
            "Epoch 4/50\n",
            "23/23 [==============================] - 5s 235ms/step - loss: 0.0020 - mean_absolute_error: 0.0336 - val_loss: 0.0558 - val_mean_absolute_error: 0.2169\n",
            "Epoch 5/50\n",
            "23/23 [==============================] - 6s 240ms/step - loss: 0.0019 - mean_absolute_error: 0.0324 - val_loss: 0.0512 - val_mean_absolute_error: 0.2062\n",
            "Epoch 6/50\n",
            "23/23 [==============================] - 6s 239ms/step - loss: 0.0019 - mean_absolute_error: 0.0325 - val_loss: 0.0453 - val_mean_absolute_error: 0.1918\n",
            "Epoch 7/50\n",
            "23/23 [==============================] - 5s 238ms/step - loss: 0.0017 - mean_absolute_error: 0.0313 - val_loss: 0.0448 - val_mean_absolute_error: 0.1911\n",
            "Epoch 8/50\n",
            "23/23 [==============================] - 6s 240ms/step - loss: 0.0017 - mean_absolute_error: 0.0315 - val_loss: 0.0462 - val_mean_absolute_error: 0.1950\n",
            "Epoch 9/50\n",
            "23/23 [==============================] - 6s 242ms/step - loss: 0.0018 - mean_absolute_error: 0.0322 - val_loss: 0.0530 - val_mean_absolute_error: 0.2126\n",
            "Epoch 10/50\n",
            "23/23 [==============================] - 5s 236ms/step - loss: 0.0021 - mean_absolute_error: 0.0343 - val_loss: 0.0481 - val_mean_absolute_error: 0.2006\n",
            "Epoch 11/50\n",
            "23/23 [==============================] - 5s 238ms/step - loss: 0.0018 - mean_absolute_error: 0.0315 - val_loss: 0.0425 - val_mean_absolute_error: 0.1863\n",
            "Epoch 12/50\n",
            "23/23 [==============================] - 5s 238ms/step - loss: 0.0017 - mean_absolute_error: 0.0306 - val_loss: 0.0408 - val_mean_absolute_error: 0.1819\n",
            "Epoch 13/50\n",
            "23/23 [==============================] - 5s 237ms/step - loss: 0.0016 - mean_absolute_error: 0.0302 - val_loss: 0.0386 - val_mean_absolute_error: 0.1760\n",
            "Epoch 14/50\n",
            "23/23 [==============================] - 6s 241ms/step - loss: 0.0017 - mean_absolute_error: 0.0307 - val_loss: 0.0448 - val_mean_absolute_error: 0.1927\n",
            "Epoch 15/50\n",
            "23/23 [==============================] - 5s 237ms/step - loss: 0.0017 - mean_absolute_error: 0.0303 - val_loss: 0.0470 - val_mean_absolute_error: 0.1988\n",
            "Epoch 16/50\n",
            "23/23 [==============================] - 6s 242ms/step - loss: 0.0016 - mean_absolute_error: 0.0301 - val_loss: 0.0390 - val_mean_absolute_error: 0.1775\n",
            "Epoch 17/50\n",
            "23/23 [==============================] - 5s 237ms/step - loss: 0.0016 - mean_absolute_error: 0.0301 - val_loss: 0.0359 - val_mean_absolute_error: 0.1693\n",
            "Epoch 18/50\n",
            "23/23 [==============================] - 5s 236ms/step - loss: 0.0019 - mean_absolute_error: 0.0328 - val_loss: 0.0425 - val_mean_absolute_error: 0.1872\n",
            "Epoch 19/50\n",
            "23/23 [==============================] - 6s 238ms/step - loss: 0.0017 - mean_absolute_error: 0.0306 - val_loss: 0.0386 - val_mean_absolute_error: 0.1767\n",
            "Epoch 20/50\n",
            "23/23 [==============================] - 6s 238ms/step - loss: 0.0016 - mean_absolute_error: 0.0301 - val_loss: 0.0364 - val_mean_absolute_error: 0.1706\n",
            "Epoch 21/50\n",
            "23/23 [==============================] - 6s 243ms/step - loss: 0.0016 - mean_absolute_error: 0.0297 - val_loss: 0.0394 - val_mean_absolute_error: 0.1792\n",
            "Epoch 22/50\n",
            "23/23 [==============================] - 6s 239ms/step - loss: 0.0015 - mean_absolute_error: 0.0294 - val_loss: 0.0425 - val_mean_absolute_error: 0.1870\n",
            "Epoch 23/50\n",
            "23/23 [==============================] - 6s 241ms/step - loss: 0.0015 - mean_absolute_error: 0.0291 - val_loss: 0.0419 - val_mean_absolute_error: 0.1860\n",
            "Epoch 24/50\n",
            "23/23 [==============================] - 6s 240ms/step - loss: 0.0015 - mean_absolute_error: 0.0294 - val_loss: 0.0472 - val_mean_absolute_error: 0.1995\n",
            "Epoch 25/50\n",
            "23/23 [==============================] - 6s 239ms/step - loss: 0.0015 - mean_absolute_error: 0.0290 - val_loss: 0.0420 - val_mean_absolute_error: 0.1859\n"
          ]
        }
      ]
    },
    {
      "cell_type": "code",
      "source": [
        "last_90_data=total_data[-90:].to_numpy()\n",
        "tensor_data=tf.convert_to_tensor(last_90_data[np.newaxis])"
      ],
      "metadata": {
        "id": "k8oGQ9cZn09i"
      },
      "execution_count": null,
      "outputs": []
    },
    {
      "cell_type": "code",
      "source": [
        "predicted_next_60=multi_lstm(tensor_data)[0].numpy()"
      ],
      "metadata": {
        "id": "QcXrwhxzn-ax"
      },
      "execution_count": null,
      "outputs": []
    },
    {
      "cell_type": "code",
      "source": [
        "min_value=min(MSFT_data['MSFT'])"
      ],
      "metadata": {
        "id": "rTOotmjUoCHA"
      },
      "execution_count": null,
      "outputs": []
    },
    {
      "cell_type": "code",
      "source": [
        "max_value=max(MSFT_data['MSFT'])"
      ],
      "metadata": {
        "id": "fus2jkY9oJSw"
      },
      "execution_count": null,
      "outputs": []
    },
    {
      "cell_type": "code",
      "source": [
        "tranform_back=(max_value-min_value)*predicted_next_60[:,0]+min_value"
      ],
      "metadata": {
        "id": "bwyzfN4yoN_S"
      },
      "execution_count": null,
      "outputs": []
    },
    {
      "cell_type": "code",
      "source": [
        "predicted_next_60_list=list(tranform_back)"
      ],
      "metadata": {
        "id": "O9RqfTKVoRP5"
      },
      "execution_count": null,
      "outputs": []
    },
    {
      "cell_type": "code",
      "source": [
        "MSFT_data.head()"
      ],
      "metadata": {
        "id": "Fa4avFLUoetR",
        "colab": {
          "base_uri": "https://localhost:8080/",
          "height": 237
        },
        "outputId": "383eb3fa-d822-4fc6-df15-d8e2e4b33034"
      },
      "execution_count": null,
      "outputs": [
        {
          "output_type": "execute_result",
          "data": {
            "text/plain": [
              "                 Open       High        Low      Close       MSFT    Volume\n",
              "Date                                                                       \n",
              "2017-11-27  83.309998  83.980003  83.300003  83.870003  78.981636  18265200\n",
              "2017-11-28  84.070000  85.059998  84.019997  84.879997  79.932762  21926000\n",
              "2017-11-29  84.709999  84.919998  83.180000  83.339996  78.482513  27381100\n",
              "2017-11-30  83.510002  84.519997  83.339996  84.169998  79.264130  33054600\n",
              "2017-12-01  83.599998  84.809998  83.220001  84.260002  79.348900  29532100"
            ],
            "text/html": [
              "\n",
              "  <div id=\"df-d948ff6a-1645-4245-850e-6e587306584b\">\n",
              "    <div class=\"colab-df-container\">\n",
              "      <div>\n",
              "<style scoped>\n",
              "    .dataframe tbody tr th:only-of-type {\n",
              "        vertical-align: middle;\n",
              "    }\n",
              "\n",
              "    .dataframe tbody tr th {\n",
              "        vertical-align: top;\n",
              "    }\n",
              "\n",
              "    .dataframe thead th {\n",
              "        text-align: right;\n",
              "    }\n",
              "</style>\n",
              "<table border=\"1\" class=\"dataframe\">\n",
              "  <thead>\n",
              "    <tr style=\"text-align: right;\">\n",
              "      <th></th>\n",
              "      <th>Open</th>\n",
              "      <th>High</th>\n",
              "      <th>Low</th>\n",
              "      <th>Close</th>\n",
              "      <th>MSFT</th>\n",
              "      <th>Volume</th>\n",
              "    </tr>\n",
              "    <tr>\n",
              "      <th>Date</th>\n",
              "      <th></th>\n",
              "      <th></th>\n",
              "      <th></th>\n",
              "      <th></th>\n",
              "      <th></th>\n",
              "      <th></th>\n",
              "    </tr>\n",
              "  </thead>\n",
              "  <tbody>\n",
              "    <tr>\n",
              "      <th>2017-11-27</th>\n",
              "      <td>83.309998</td>\n",
              "      <td>83.980003</td>\n",
              "      <td>83.300003</td>\n",
              "      <td>83.870003</td>\n",
              "      <td>78.981636</td>\n",
              "      <td>18265200</td>\n",
              "    </tr>\n",
              "    <tr>\n",
              "      <th>2017-11-28</th>\n",
              "      <td>84.070000</td>\n",
              "      <td>85.059998</td>\n",
              "      <td>84.019997</td>\n",
              "      <td>84.879997</td>\n",
              "      <td>79.932762</td>\n",
              "      <td>21926000</td>\n",
              "    </tr>\n",
              "    <tr>\n",
              "      <th>2017-11-29</th>\n",
              "      <td>84.709999</td>\n",
              "      <td>84.919998</td>\n",
              "      <td>83.180000</td>\n",
              "      <td>83.339996</td>\n",
              "      <td>78.482513</td>\n",
              "      <td>27381100</td>\n",
              "    </tr>\n",
              "    <tr>\n",
              "      <th>2017-11-30</th>\n",
              "      <td>83.510002</td>\n",
              "      <td>84.519997</td>\n",
              "      <td>83.339996</td>\n",
              "      <td>84.169998</td>\n",
              "      <td>79.264130</td>\n",
              "      <td>33054600</td>\n",
              "    </tr>\n",
              "    <tr>\n",
              "      <th>2017-12-01</th>\n",
              "      <td>83.599998</td>\n",
              "      <td>84.809998</td>\n",
              "      <td>83.220001</td>\n",
              "      <td>84.260002</td>\n",
              "      <td>79.348900</td>\n",
              "      <td>29532100</td>\n",
              "    </tr>\n",
              "  </tbody>\n",
              "</table>\n",
              "</div>\n",
              "      <button class=\"colab-df-convert\" onclick=\"convertToInteractive('df-d948ff6a-1645-4245-850e-6e587306584b')\"\n",
              "              title=\"Convert this dataframe to an interactive table.\"\n",
              "              style=\"display:none;\">\n",
              "        \n",
              "  <svg xmlns=\"http://www.w3.org/2000/svg\" height=\"24px\"viewBox=\"0 0 24 24\"\n",
              "       width=\"24px\">\n",
              "    <path d=\"M0 0h24v24H0V0z\" fill=\"none\"/>\n",
              "    <path d=\"M18.56 5.44l.94 2.06.94-2.06 2.06-.94-2.06-.94-.94-2.06-.94 2.06-2.06.94zm-11 1L8.5 8.5l.94-2.06 2.06-.94-2.06-.94L8.5 2.5l-.94 2.06-2.06.94zm10 10l.94 2.06.94-2.06 2.06-.94-2.06-.94-.94-2.06-.94 2.06-2.06.94z\"/><path d=\"M17.41 7.96l-1.37-1.37c-.4-.4-.92-.59-1.43-.59-.52 0-1.04.2-1.43.59L10.3 9.45l-7.72 7.72c-.78.78-.78 2.05 0 2.83L4 21.41c.39.39.9.59 1.41.59.51 0 1.02-.2 1.41-.59l7.78-7.78 2.81-2.81c.8-.78.8-2.07 0-2.86zM5.41 20L4 18.59l7.72-7.72 1.47 1.35L5.41 20z\"/>\n",
              "  </svg>\n",
              "      </button>\n",
              "      \n",
              "  <style>\n",
              "    .colab-df-container {\n",
              "      display:flex;\n",
              "      flex-wrap:wrap;\n",
              "      gap: 12px;\n",
              "    }\n",
              "\n",
              "    .colab-df-convert {\n",
              "      background-color: #E8F0FE;\n",
              "      border: none;\n",
              "      border-radius: 50%;\n",
              "      cursor: pointer;\n",
              "      display: none;\n",
              "      fill: #1967D2;\n",
              "      height: 32px;\n",
              "      padding: 0 0 0 0;\n",
              "      width: 32px;\n",
              "    }\n",
              "\n",
              "    .colab-df-convert:hover {\n",
              "      background-color: #E2EBFA;\n",
              "      box-shadow: 0px 1px 2px rgba(60, 64, 67, 0.3), 0px 1px 3px 1px rgba(60, 64, 67, 0.15);\n",
              "      fill: #174EA6;\n",
              "    }\n",
              "\n",
              "    [theme=dark] .colab-df-convert {\n",
              "      background-color: #3B4455;\n",
              "      fill: #D2E3FC;\n",
              "    }\n",
              "\n",
              "    [theme=dark] .colab-df-convert:hover {\n",
              "      background-color: #434B5C;\n",
              "      box-shadow: 0px 1px 3px 1px rgba(0, 0, 0, 0.15);\n",
              "      filter: drop-shadow(0px 1px 2px rgba(0, 0, 0, 0.3));\n",
              "      fill: #FFFFFF;\n",
              "    }\n",
              "  </style>\n",
              "\n",
              "      <script>\n",
              "        const buttonEl =\n",
              "          document.querySelector('#df-d948ff6a-1645-4245-850e-6e587306584b button.colab-df-convert');\n",
              "        buttonEl.style.display =\n",
              "          google.colab.kernel.accessAllowed ? 'block' : 'none';\n",
              "\n",
              "        async function convertToInteractive(key) {\n",
              "          const element = document.querySelector('#df-d948ff6a-1645-4245-850e-6e587306584b');\n",
              "          const dataTable =\n",
              "            await google.colab.kernel.invokeFunction('convertToInteractive',\n",
              "                                                     [key], {});\n",
              "          if (!dataTable) return;\n",
              "\n",
              "          const docLinkHtml = 'Like what you see? Visit the ' +\n",
              "            '<a target=\"_blank\" href=https://colab.research.google.com/notebooks/data_table.ipynb>data table notebook</a>'\n",
              "            + ' to learn more about interactive tables.';\n",
              "          element.innerHTML = '';\n",
              "          dataTable['output_type'] = 'display_data';\n",
              "          await google.colab.output.renderOutput(dataTable, element);\n",
              "          const docLink = document.createElement('div');\n",
              "          docLink.innerHTML = docLinkHtml;\n",
              "          element.appendChild(docLink);\n",
              "        }\n",
              "      </script>\n",
              "    </div>\n",
              "  </div>\n",
              "  "
            ]
          },
          "metadata": {},
          "execution_count": 272
        }
      ]
    },
    {
      "cell_type": "code",
      "source": [
        "predicted_next_60_list.insert(0,MSFT_data['MSFT'][-1])"
      ],
      "metadata": {
        "id": "wBvRvP31oV1L"
      },
      "execution_count": null,
      "outputs": []
    },
    {
      "cell_type": "code",
      "source": [
        "plt.plot(range(1160,1260),MSFT_data['MSFT'][-100:],color='r',label='past 100 days')\n",
        "plt.plot(range(1259,1320),predicted_next_60_list,color='g',label='next 60 days')\n",
        "\n",
        "plt.ylabel('Price')\n",
        "plt.xlabel('Time')\n",
        "plt.title('Prediction of price for next 60 days using LSTM')\n",
        "plt.legend()\n",
        "plt.show()"
      ],
      "metadata": {
        "id": "FT0VeBc2o6Di",
        "colab": {
          "base_uri": "https://localhost:8080/",
          "height": 295
        },
        "outputId": "6804e771-52fe-4d38-8779-e2bb564f94d9"
      },
      "execution_count": null,
      "outputs": [
        {
          "output_type": "display_data",
          "data": {
            "text/plain": [
              "<Figure size 432x288 with 1 Axes>"
            ],
            "image/png": "[encoded data removed]"
          },
          "metadata": {
            "needs_background": "light"
          }
        }
      ]
    },
    {
      "cell_type": "code",
      "source": [
        "total_data.tail()"
      ],
      "metadata": {
        "colab": {
          "base_uri": "https://localhost:8080/",
          "height": 237
        },
        "id": "WeYJZJdnlgNX",
        "outputId": "ebd5b648-f2bc-404f-a8ab-34e475a94627"
      },
      "execution_count": null,
      "outputs": [
        {
          "output_type": "execute_result",
          "data": {
            "text/plain": [
              "                MSFT\n",
              "Date                \n",
              "2022-11-18  0.625509\n",
              "2022-11-21  0.628658\n",
              "2022-11-22  0.639964\n",
              "2022-11-23  0.649639\n",
              "2022-11-25  0.649298"
            ],
            "text/html": [
              "\n",
              "  <div id=\"df-c42d9615-2a9d-4738-a58f-aed9dd622bd0\">\n",
              "    <div class=\"colab-df-container\">\n",
              "      <div>\n",
              "<style scoped>\n",
              "    .dataframe tbody tr th:only-of-type {\n",
              "        vertical-align: middle;\n",
              "    }\n",
              "\n",
              "    .dataframe tbody tr th {\n",
              "        vertical-align: top;\n",
              "    }\n",
              "\n",
              "    .dataframe thead th {\n",
              "        text-align: right;\n",
              "    }\n",
              "</style>\n",
              "<table border=\"1\" class=\"dataframe\">\n",
              "  <thead>\n",
              "    <tr style=\"text-align: right;\">\n",
              "      <th></th>\n",
              "      <th>MSFT</th>\n",
              "    </tr>\n",
              "    <tr>\n",
              "      <th>Date</th>\n",
              "      <th></th>\n",
              "    </tr>\n",
              "  </thead>\n",
              "  <tbody>\n",
              "    <tr>\n",
              "      <th>2022-11-18</th>\n",
              "      <td>0.625509</td>\n",
              "    </tr>\n",
              "    <tr>\n",
              "      <th>2022-11-21</th>\n",
              "      <td>0.628658</td>\n",
              "    </tr>\n",
              "    <tr>\n",
              "      <th>2022-11-22</th>\n",
              "      <td>0.639964</td>\n",
              "    </tr>\n",
              "    <tr>\n",
              "      <th>2022-11-23</th>\n",
              "      <td>0.649639</td>\n",
              "    </tr>\n",
              "    <tr>\n",
              "      <th>2022-11-25</th>\n",
              "      <td>0.649298</td>\n",
              "    </tr>\n",
              "  </tbody>\n",
              "</table>\n",
              "</div>\n",
              "      <button class=\"colab-df-convert\" onclick=\"convertToInteractive('df-c42d9615-2a9d-4738-a58f-aed9dd622bd0')\"\n",
              "              title=\"Convert this dataframe to an interactive table.\"\n",
              "              style=\"display:none;\">\n",
              "        \n",
              "  <svg xmlns=\"http://www.w3.org/2000/svg\" height=\"24px\"viewBox=\"0 0 24 24\"\n",
              "       width=\"24px\">\n",
              "    <path d=\"M0 0h24v24H0V0z\" fill=\"none\"/>\n",
              "    <path d=\"M18.56 5.44l.94 2.06.94-2.06 2.06-.94-2.06-.94-.94-2.06-.94 2.06-2.06.94zm-11 1L8.5 8.5l.94-2.06 2.06-.94-2.06-.94L8.5 2.5l-.94 2.06-2.06.94zm10 10l.94 2.06.94-2.06 2.06-.94-2.06-.94-.94-2.06-.94 2.06-2.06.94z\"/><path d=\"M17.41 7.96l-1.37-1.37c-.4-.4-.92-.59-1.43-.59-.52 0-1.04.2-1.43.59L10.3 9.45l-7.72 7.72c-.78.78-.78 2.05 0 2.83L4 21.41c.39.39.9.59 1.41.59.51 0 1.02-.2 1.41-.59l7.78-7.78 2.81-2.81c.8-.78.8-2.07 0-2.86zM5.41 20L4 18.59l7.72-7.72 1.47 1.35L5.41 20z\"/>\n",
              "  </svg>\n",
              "      </button>\n",
              "      \n",
              "  <style>\n",
              "    .colab-df-container {\n",
              "      display:flex;\n",
              "      flex-wrap:wrap;\n",
              "      gap: 12px;\n",
              "    }\n",
              "\n",
              "    .colab-df-convert {\n",
              "      background-color: #E8F0FE;\n",
              "      border: none;\n",
              "      border-radius: 50%;\n",
              "      cursor: pointer;\n",
              "      display: none;\n",
              "      fill: #1967D2;\n",
              "      height: 32px;\n",
              "      padding: 0 0 0 0;\n",
              "      width: 32px;\n",
              "    }\n",
              "\n",
              "    .colab-df-convert:hover {\n",
              "      background-color: #E2EBFA;\n",
              "      box-shadow: 0px 1px 2px rgba(60, 64, 67, 0.3), 0px 1px 3px 1px rgba(60, 64, 67, 0.15);\n",
              "      fill: #174EA6;\n",
              "    }\n",
              "\n",
              "    [theme=dark] .colab-df-convert {\n",
              "      background-color: #3B4455;\n",
              "      fill: #D2E3FC;\n",
              "    }\n",
              "\n",
              "    [theme=dark] .colab-df-convert:hover {\n",
              "      background-color: #434B5C;\n",
              "      box-shadow: 0px 1px 3px 1px rgba(0, 0, 0, 0.15);\n",
              "      filter: drop-shadow(0px 1px 2px rgba(0, 0, 0, 0.3));\n",
              "      fill: #FFFFFF;\n",
              "    }\n",
              "  </style>\n",
              "\n",
              "      <script>\n",
              "        const buttonEl =\n",
              "          document.querySelector('#df-c42d9615-2a9d-4738-a58f-aed9dd622bd0 button.colab-df-convert');\n",
              "        buttonEl.style.display =\n",
              "          google.colab.kernel.accessAllowed ? 'block' : 'none';\n",
              "\n",
              "        async function convertToInteractive(key) {\n",
              "          const element = document.querySelector('#df-c42d9615-2a9d-4738-a58f-aed9dd622bd0');\n",
              "          const dataTable =\n",
              "            await google.colab.kernel.invokeFunction('convertToInteractive',\n",
              "                                                     [key], {});\n",
              "          if (!dataTable) return;\n",
              "\n",
              "          const docLinkHtml = 'Like what you see? Visit the ' +\n",
              "            '<a target=\"_blank\" href=https://colab.research.google.com/notebooks/data_table.ipynb>data table notebook</a>'\n",
              "            + ' to learn more about interactive tables.';\n",
              "          element.innerHTML = '';\n",
              "          dataTable['output_type'] = 'display_data';\n",
              "          await google.colab.output.renderOutput(dataTable, element);\n",
              "          const docLink = document.createElement('div');\n",
              "          docLink.innerHTML = docLinkHtml;\n",
              "          element.appendChild(docLink);\n",
              "        }\n",
              "      </script>\n",
              "    </div>\n",
              "  </div>\n",
              "  "
            ]
          },
          "metadata": {},
          "execution_count": 253
        }
      ]
    },
    {
      "cell_type": "markdown",
      "source": [
        "Try Gru"
      ],
      "metadata": {
        "id": "8PheHs8KecqO"
      }
    },
    {
      "cell_type": "code",
      "source": [
        "multi_GRU=tf.keras.Sequential([ \n",
        "    tf.keras.layers.GRU(128,return_sequences=True),\n",
        "    tf.keras.layers.Dropout(0.3),\n",
        "    tf.keras.layers.GRU(64,return_sequences=True),\n",
        "    tf.keras.layers.Dropout(0.2),\n",
        "    tf.keras.layers.GRU(32,return_sequences=False),\n",
        "    #tf.keras.layers\n",
        "    tf.keras.layers.Dense(OUT_STEPS*num_features),\n",
        "    tf.keras.layers.Reshape([OUT_STEPS,num_features])\n",
        "    ])"
      ],
      "metadata": {
        "id": "afRDaiNHegvF"
      },
      "execution_count": null,
      "outputs": []
    },
    {
      "cell_type": "code",
      "source": [
        "history=compile_and_fit(multi_GRU,wide_window)"
      ],
      "metadata": {
        "colab": {
          "base_uri": "https://localhost:8080/"
        },
        "id": "KSFch6S2e5Qn",
        "outputId": "9bdab7bd-85c8-4a15-9afd-d0187a8fa1e1"
      },
      "execution_count": null,
      "outputs": [
        {
          "output_type": "stream",
          "name": "stdout",
          "text": [
            "Epoch 1/50\n",
            "23/23 [==============================] - 12s 255ms/step - loss: 0.0571 - mean_absolute_error: 0.1815 - val_loss: 0.1209 - val_mean_absolute_error: 0.2950\n",
            "Epoch 2/50\n",
            "23/23 [==============================] - 5s 197ms/step - loss: 0.0059 - mean_absolute_error: 0.0558 - val_loss: 0.0337 - val_mean_absolute_error: 0.1525\n",
            "Epoch 3/50\n",
            "23/23 [==============================] - 5s 196ms/step - loss: 0.0024 - mean_absolute_error: 0.0367 - val_loss: 0.0280 - val_mean_absolute_error: 0.1395\n",
            "Epoch 4/50\n",
            "23/23 [==============================] - 5s 196ms/step - loss: 0.0021 - mean_absolute_error: 0.0342 - val_loss: 0.0214 - val_mean_absolute_error: 0.1182\n",
            "Epoch 5/50\n",
            "23/23 [==============================] - 5s 197ms/step - loss: 0.0020 - mean_absolute_error: 0.0331 - val_loss: 0.0261 - val_mean_absolute_error: 0.1339\n",
            "Epoch 6/50\n",
            "23/23 [==============================] - 5s 199ms/step - loss: 0.0019 - mean_absolute_error: 0.0328 - val_loss: 0.0201 - val_mean_absolute_error: 0.1149\n",
            "Epoch 7/50\n",
            "23/23 [==============================] - 5s 197ms/step - loss: 0.0018 - mean_absolute_error: 0.0316 - val_loss: 0.0201 - val_mean_absolute_error: 0.1146\n",
            "Epoch 8/50\n",
            "23/23 [==============================] - 6s 283ms/step - loss: 0.0018 - mean_absolute_error: 0.0313 - val_loss: 0.0188 - val_mean_absolute_error: 0.1103\n",
            "Epoch 9/50\n",
            "23/23 [==============================] - 5s 218ms/step - loss: 0.0017 - mean_absolute_error: 0.0308 - val_loss: 0.0183 - val_mean_absolute_error: 0.1086\n",
            "Epoch 10/50\n",
            "23/23 [==============================] - 5s 200ms/step - loss: 0.0017 - mean_absolute_error: 0.0308 - val_loss: 0.0239 - val_mean_absolute_error: 0.1279\n",
            "Epoch 11/50\n",
            "23/23 [==============================] - 5s 198ms/step - loss: 0.0017 - mean_absolute_error: 0.0307 - val_loss: 0.0191 - val_mean_absolute_error: 0.1112\n",
            "Epoch 12/50\n",
            "23/23 [==============================] - 5s 201ms/step - loss: 0.0017 - mean_absolute_error: 0.0305 - val_loss: 0.0218 - val_mean_absolute_error: 0.1209\n",
            "Epoch 13/50\n",
            "23/23 [==============================] - 5s 200ms/step - loss: 0.0017 - mean_absolute_error: 0.0303 - val_loss: 0.0190 - val_mean_absolute_error: 0.1113\n",
            "Epoch 14/50\n",
            "23/23 [==============================] - 5s 199ms/step - loss: 0.0018 - mean_absolute_error: 0.0312 - val_loss: 0.0223 - val_mean_absolute_error: 0.1230\n",
            "Epoch 15/50\n",
            "23/23 [==============================] - 5s 199ms/step - loss: 0.0016 - mean_absolute_error: 0.0299 - val_loss: 0.0226 - val_mean_absolute_error: 0.1242\n",
            "Epoch 16/50\n",
            "23/23 [==============================] - 5s 197ms/step - loss: 0.0016 - mean_absolute_error: 0.0296 - val_loss: 0.0209 - val_mean_absolute_error: 0.1184\n",
            "Epoch 17/50\n",
            "23/23 [==============================] - 5s 198ms/step - loss: 0.0017 - mean_absolute_error: 0.0306 - val_loss: 0.0229 - val_mean_absolute_error: 0.1255\n"
          ]
        }
      ]
    },
    {
      "cell_type": "code",
      "source": [
        "last_90_data=total_data[-90:].to_numpy()\n",
        "tensor_data=tf.convert_to_tensor(last_90_data[np.newaxis])"
      ],
      "metadata": {
        "id": "PBGa31MZfQL8"
      },
      "execution_count": null,
      "outputs": []
    },
    {
      "cell_type": "code",
      "source": [
        "predicted_next_60=multi_GRU(tensor_data)[0].numpy()"
      ],
      "metadata": {
        "id": "d6qf7YnefVJA"
      },
      "execution_count": null,
      "outputs": []
    },
    {
      "cell_type": "code",
      "source": [
        "min_value=min(MSFT_data['MSFT'])\n",
        "max_value=max(MSFT_data['MSFT'])"
      ],
      "metadata": {
        "id": "Ib7RVVUZfZFg"
      },
      "execution_count": null,
      "outputs": []
    },
    {
      "cell_type": "code",
      "source": [
        "tranform_back=(max_value-min_value)*predicted_next_60[:,0]+min_value"
      ],
      "metadata": {
        "id": "5vQNLRoWfiC0"
      },
      "execution_count": null,
      "outputs": []
    },
    {
      "cell_type": "code",
      "source": [
        "predicted_next_60_list=list(tranform_back)"
      ],
      "metadata": {
        "id": "nNTdNbJBfo1t"
      },
      "execution_count": null,
      "outputs": []
    },
    {
      "cell_type": "code",
      "source": [
        "predicted_next_60_list.insert(0,MSFT_data['MSFT'][-1])"
      ],
      "metadata": {
        "id": "d5fueIjQf7Kc"
      },
      "execution_count": null,
      "outputs": []
    },
    {
      "cell_type": "code",
      "source": [
        "plt.plot(range(1160,1260),MSFT_data['MSFT'][-100:],color='r',label='past 100 days')\n",
        "plt.plot(range(1259,1320),predicted_next_60_list,color='g',label='next 60 days')\n",
        "\n",
        "plt.ylabel('Price')\n",
        "plt.xlabel('Time')\n",
        "plt.title('Prediction of price for next 60 days using GRU')\n",
        "plt.legend()\n",
        "plt.show()"
      ],
      "metadata": {
        "colab": {
          "base_uri": "https://localhost:8080/",
          "height": 295
        },
        "id": "Ce7qIY4qf_F1",
        "outputId": "6e500a8c-c9a5-454e-f24a-134a6c3ed257"
      },
      "execution_count": null,
      "outputs": [
        {
          "output_type": "display_data",
          "data": {
            "text/plain": [
              "<Figure size 432x288 with 1 Axes>"
            ],
            "image/png": "[encoded data removed]"
          },
          "metadata": {
            "needs_background": "light"
          }
        }
      ]
    },
    {
      "cell_type": "markdown",
      "source": [
        "#Train the model again"
      ],
      "metadata": {
        "id": "qhIIlPZvrl09"
      }
    },
    {
      "cell_type": "markdown",
      "source": [
        "Second"
      ],
      "metadata": {
        "id": "TSBQjTvcDNek"
      }
    },
    {
      "cell_type": "code",
      "source": [
        "multi_lstm=tf.keras.Sequential([ \n",
        "    tf.keras.layers.LSTM(128,return_sequences=True),\n",
        "    tf.keras.layers.Dropout(0.3),\n",
        "    tf.keras.layers.LSTM(64,return_sequences=True),\n",
        "    tf.keras.layers.Dropout(0.2),\n",
        "    tf.keras.layers.LSTM(32,return_sequences=False),\n",
        "    tf.keras.layers.Dense(OUT_STEPS*num_features),\n",
        "    tf.keras.layers.Reshape([OUT_STEPS,num_features])\n",
        "])"
      ],
      "metadata": {
        "id": "JxPMN1rtC-bE"
      },
      "execution_count": null,
      "outputs": []
    },
    {
      "cell_type": "code",
      "source": [
        "history=compile_and_fit(multi_lstm,wide_window)"
      ],
      "metadata": {
        "id": "37YggFbWDROM",
        "colab": {
          "base_uri": "https://localhost:8080/"
        },
        "outputId": "5d06b572-c35b-4cf1-f365-5b88009c4d10"
      },
      "execution_count": null,
      "outputs": [
        {
          "output_type": "stream",
          "name": "stdout",
          "text": [
            "Epoch 1/50\n",
            "23/23 [==============================] - 13s 301ms/step - loss: 0.0523 - mean_absolute_error: 0.1646 - val_loss: 0.1928 - val_mean_absolute_error: 0.3917\n",
            "Epoch 2/50\n",
            "23/23 [==============================] - 5s 236ms/step - loss: 0.0074 - mean_absolute_error: 0.0586 - val_loss: 0.0878 - val_mean_absolute_error: 0.2753\n",
            "Epoch 3/50\n",
            "23/23 [==============================] - 6s 237ms/step - loss: 0.0025 - mean_absolute_error: 0.0369 - val_loss: 0.0670 - val_mean_absolute_error: 0.2405\n",
            "Epoch 4/50\n",
            "23/23 [==============================] - 6s 244ms/step - loss: 0.0020 - mean_absolute_error: 0.0335 - val_loss: 0.0622 - val_mean_absolute_error: 0.2303\n",
            "Epoch 5/50\n",
            "23/23 [==============================] - 6s 239ms/step - loss: 0.0020 - mean_absolute_error: 0.0332 - val_loss: 0.0595 - val_mean_absolute_error: 0.2240\n",
            "Epoch 6/50\n",
            "23/23 [==============================] - 6s 239ms/step - loss: 0.0021 - mean_absolute_error: 0.0348 - val_loss: 0.0559 - val_mean_absolute_error: 0.2160\n",
            "Epoch 7/50\n",
            "23/23 [==============================] - 7s 315ms/step - loss: 0.0021 - mean_absolute_error: 0.0341 - val_loss: 0.0556 - val_mean_absolute_error: 0.2167\n",
            "Epoch 8/50\n",
            "23/23 [==============================] - 7s 326ms/step - loss: 0.0022 - mean_absolute_error: 0.0348 - val_loss: 0.0539 - val_mean_absolute_error: 0.2122\n",
            "Epoch 9/50\n",
            "23/23 [==============================] - 6s 237ms/step - loss: 0.0020 - mean_absolute_error: 0.0338 - val_loss: 0.0567 - val_mean_absolute_error: 0.2189\n",
            "Epoch 10/50\n",
            "23/23 [==============================] - 5s 233ms/step - loss: 0.0019 - mean_absolute_error: 0.0329 - val_loss: 0.0519 - val_mean_absolute_error: 0.2082\n",
            "Epoch 11/50\n",
            "23/23 [==============================] - 6s 240ms/step - loss: 0.0019 - mean_absolute_error: 0.0324 - val_loss: 0.0513 - val_mean_absolute_error: 0.2064\n",
            "Epoch 12/50\n",
            "23/23 [==============================] - 6s 241ms/step - loss: 0.0018 - mean_absolute_error: 0.0317 - val_loss: 0.0469 - val_mean_absolute_error: 0.1952\n",
            "Epoch 13/50\n",
            "23/23 [==============================] - 6s 233ms/step - loss: 0.0018 - mean_absolute_error: 0.0319 - val_loss: 0.0547 - val_mean_absolute_error: 0.2146\n",
            "Epoch 14/50\n",
            "23/23 [==============================] - 5s 231ms/step - loss: 0.0019 - mean_absolute_error: 0.0322 - val_loss: 0.0508 - val_mean_absolute_error: 0.2051\n",
            "Epoch 15/50\n",
            "23/23 [==============================] - 5s 231ms/step - loss: 0.0019 - mean_absolute_error: 0.0330 - val_loss: 0.0502 - val_mean_absolute_error: 0.2048\n",
            "Epoch 16/50\n",
            "23/23 [==============================] - 5s 231ms/step - loss: 0.0020 - mean_absolute_error: 0.0339 - val_loss: 0.0483 - val_mean_absolute_error: 0.1996\n",
            "Epoch 17/50\n",
            "23/23 [==============================] - 5s 230ms/step - loss: 0.0022 - mean_absolute_error: 0.0349 - val_loss: 0.0441 - val_mean_absolute_error: 0.1893\n",
            "Epoch 18/50\n",
            "23/23 [==============================] - 5s 230ms/step - loss: 0.0020 - mean_absolute_error: 0.0330 - val_loss: 0.0524 - val_mean_absolute_error: 0.2097\n",
            "Epoch 19/50\n",
            "23/23 [==============================] - 5s 236ms/step - loss: 0.0017 - mean_absolute_error: 0.0311 - val_loss: 0.0515 - val_mean_absolute_error: 0.2077\n",
            "Epoch 20/50\n",
            "23/23 [==============================] - 5s 233ms/step - loss: 0.0016 - mean_absolute_error: 0.0305 - val_loss: 0.0512 - val_mean_absolute_error: 0.2071\n",
            "Epoch 21/50\n",
            "23/23 [==============================] - 5s 232ms/step - loss: 0.0016 - mean_absolute_error: 0.0305 - val_loss: 0.0540 - val_mean_absolute_error: 0.2129\n",
            "Epoch 22/50\n",
            "23/23 [==============================] - 5s 224ms/step - loss: 0.0016 - mean_absolute_error: 0.0306 - val_loss: 0.0578 - val_mean_absolute_error: 0.2230\n",
            "Epoch 23/50\n",
            "23/23 [==============================] - 5s 230ms/step - loss: 0.0017 - mean_absolute_error: 0.0312 - val_loss: 0.0611 - val_mean_absolute_error: 0.2310\n",
            "Epoch 24/50\n",
            "23/23 [==============================] - 5s 222ms/step - loss: 0.0018 - mean_absolute_error: 0.0316 - val_loss: 0.0503 - val_mean_absolute_error: 0.2052\n",
            "Epoch 25/50\n",
            "23/23 [==============================] - 5s 231ms/step - loss: 0.0017 - mean_absolute_error: 0.0310 - val_loss: 0.0489 - val_mean_absolute_error: 0.2023\n"
          ]
        }
      ]
    },
    {
      "cell_type": "code",
      "source": [
        "last_90_data=total_data[-90:].to_numpy()\n",
        "tensor_data=tf.convert_to_tensor(last_90_data[np.newaxis])"
      ],
      "metadata": {
        "id": "twBEmM7UDUdx"
      },
      "execution_count": null,
      "outputs": []
    },
    {
      "cell_type": "code",
      "source": [
        "predicted_next_60=multi_lstm(tensor_data)[0].numpy()"
      ],
      "metadata": {
        "id": "yp31W41YDeRL"
      },
      "execution_count": null,
      "outputs": []
    },
    {
      "cell_type": "code",
      "source": [
        "min_value=min(MSFT_data['MSFT'])\n",
        "max_value=max(MSFT_data['MSFT'])"
      ],
      "metadata": {
        "id": "TQm2JxLEDi8d"
      },
      "execution_count": null,
      "outputs": []
    },
    {
      "cell_type": "code",
      "source": [
        "tranform_back=(max_value-min_value)*predicted_next_60[:,0]+min_value\n",
        "predicted_next_60_list=list(tranform_back)\n",
        "predicted_next_60_list.insert(0,MSFT_data['MSFT'][-1])"
      ],
      "metadata": {
        "id": "tCnaC2YwDnu-"
      },
      "execution_count": null,
      "outputs": []
    },
    {
      "cell_type": "code",
      "source": [
        "plt.plot(range(1160,1260),MSFT_data['MSFT'][-100:],color='r',label='past 100 days')\n",
        "plt.plot(range(1259,1320),predicted_next_60_list,color='g',label='next 60 days')\n",
        "\n",
        "plt.ylabel('Price')\n",
        "plt.xlabel('Time')\n",
        "plt.legend()\n",
        "plt.show()"
      ],
      "metadata": {
        "id": "50WDSEpRDvqr",
        "colab": {
          "base_uri": "https://localhost:8080/",
          "height": 279
        },
        "outputId": "cc8fa1ef-9c8c-4d65-ea0d-2942853ac8ce"
      },
      "execution_count": null,
      "outputs": [
        {
          "output_type": "display_data",
          "data": {
            "text/plain": [
              "<Figure size 432x288 with 1 Axes>"
            ],
            "image/png": "[encoded data removed]"
          },
          "metadata": {
            "needs_background": "light"
          }
        }
      ]
    },
    {
      "cell_type": "markdown",
      "source": [
        "Third"
      ],
      "metadata": {
        "id": "w06QQdg4HeCd"
      }
    },
    {
      "cell_type": "code",
      "source": [
        "multi_lstm=tf.keras.Sequential([ \n",
        "    tf.keras.layers.LSTM(128,return_sequences=True),\n",
        "    tf.keras.layers.Dropout(0.3),\n",
        "    tf.keras.layers.LSTM(64,return_sequences=True),\n",
        "    tf.keras.layers.Dropout(0.2),\n",
        "    tf.keras.layers.LSTM(32,return_sequences=False),\n",
        "    #tf.keras.layers\n",
        "    tf.keras.layers.Dense(OUT_STEPS*num_features),\n",
        "    tf.keras.layers.Reshape([OUT_STEPS,num_features])\n",
        "])"
      ],
      "metadata": {
        "id": "ovlfbI4RHfho"
      },
      "execution_count": null,
      "outputs": []
    },
    {
      "cell_type": "code",
      "source": [
        "history=compile_and_fit(multi_lstm,wide_window)"
      ],
      "metadata": {
        "colab": {
          "base_uri": "https://localhost:8080/"
        },
        "id": "aIajK3-sHwlG",
        "outputId": "8e66fc3d-5332-436c-ec0f-7d3a39be0619"
      },
      "execution_count": null,
      "outputs": [
        {
          "output_type": "stream",
          "name": "stdout",
          "text": [
            "Epoch 1/50\n",
            "23/23 [==============================] - 15s 291ms/step - loss: 0.0621 - mean_absolute_error: 0.1897 - val_loss: 0.2319 - val_mean_absolute_error: 0.4280\n",
            "Epoch 2/50\n",
            "23/23 [==============================] - 5s 234ms/step - loss: 0.0091 - mean_absolute_error: 0.0639 - val_loss: 0.0747 - val_mean_absolute_error: 0.2501\n",
            "Epoch 3/50\n",
            "23/23 [==============================] - 5s 233ms/step - loss: 0.0024 - mean_absolute_error: 0.0361 - val_loss: 0.0548 - val_mean_absolute_error: 0.2128\n",
            "Epoch 4/50\n",
            "23/23 [==============================] - 8s 359ms/step - loss: 0.0020 - mean_absolute_error: 0.0338 - val_loss: 0.0513 - val_mean_absolute_error: 0.2053\n",
            "Epoch 5/50\n",
            "23/23 [==============================] - 5s 235ms/step - loss: 0.0020 - mean_absolute_error: 0.0333 - val_loss: 0.0525 - val_mean_absolute_error: 0.2095\n",
            "Epoch 6/50\n",
            "23/23 [==============================] - 5s 232ms/step - loss: 0.0019 - mean_absolute_error: 0.0327 - val_loss: 0.0508 - val_mean_absolute_error: 0.2055\n",
            "Epoch 7/50\n",
            "23/23 [==============================] - 5s 232ms/step - loss: 0.0021 - mean_absolute_error: 0.0342 - val_loss: 0.0501 - val_mean_absolute_error: 0.2034\n",
            "Epoch 8/50\n",
            "23/23 [==============================] - 5s 233ms/step - loss: 0.0019 - mean_absolute_error: 0.0323 - val_loss: 0.0385 - val_mean_absolute_error: 0.1729\n",
            "Epoch 9/50\n",
            "23/23 [==============================] - 5s 232ms/step - loss: 0.0019 - mean_absolute_error: 0.0326 - val_loss: 0.0373 - val_mean_absolute_error: 0.1689\n",
            "Epoch 10/50\n",
            "23/23 [==============================] - 5s 233ms/step - loss: 0.0019 - mean_absolute_error: 0.0327 - val_loss: 0.0423 - val_mean_absolute_error: 0.1842\n",
            "Epoch 11/50\n",
            "23/23 [==============================] - 5s 233ms/step - loss: 0.0020 - mean_absolute_error: 0.0333 - val_loss: 0.0435 - val_mean_absolute_error: 0.1874\n",
            "Epoch 12/50\n",
            "23/23 [==============================] - 5s 235ms/step - loss: 0.0017 - mean_absolute_error: 0.0314 - val_loss: 0.0446 - val_mean_absolute_error: 0.1905\n",
            "Epoch 13/50\n",
            "23/23 [==============================] - 5s 234ms/step - loss: 0.0017 - mean_absolute_error: 0.0309 - val_loss: 0.0378 - val_mean_absolute_error: 0.1722\n",
            "Epoch 14/50\n",
            "23/23 [==============================] - 5s 236ms/step - loss: 0.0022 - mean_absolute_error: 0.0355 - val_loss: 0.0546 - val_mean_absolute_error: 0.2157\n",
            "Epoch 15/50\n",
            "23/23 [==============================] - 5s 232ms/step - loss: 0.0020 - mean_absolute_error: 0.0329 - val_loss: 0.0390 - val_mean_absolute_error: 0.1748\n",
            "Epoch 16/50\n",
            "23/23 [==============================] - 5s 232ms/step - loss: 0.0018 - mean_absolute_error: 0.0315 - val_loss: 0.0427 - val_mean_absolute_error: 0.1852\n",
            "Epoch 17/50\n",
            "23/23 [==============================] - 5s 233ms/step - loss: 0.0018 - mean_absolute_error: 0.0317 - val_loss: 0.0486 - val_mean_absolute_error: 0.2009\n"
          ]
        }
      ]
    },
    {
      "cell_type": "code",
      "source": [
        "last_90_data=total_data[-90:].to_numpy()\n",
        "tensor_data=tf.convert_to_tensor(last_90_data[np.newaxis])"
      ],
      "metadata": {
        "id": "47QZJQfaHigS"
      },
      "execution_count": null,
      "outputs": []
    },
    {
      "cell_type": "code",
      "source": [
        "predicted_next_60=multi_lstm(tensor_data)[0].numpy()"
      ],
      "metadata": {
        "id": "3897a621HkN6"
      },
      "execution_count": null,
      "outputs": []
    },
    {
      "cell_type": "code",
      "source": [
        "min_value=min(MSFT_data['MSFT'])\n",
        "max_value=max(MSFT_data['MSFT'])"
      ],
      "metadata": {
        "id": "Mft3SgFZHmJ5"
      },
      "execution_count": null,
      "outputs": []
    },
    {
      "cell_type": "code",
      "source": [
        "tranform_back=(max_value-min_value)*predicted_next_60[:,0]+min_value\n",
        "predicted_next_60_list=list(tranform_back)\n",
        "predicted_next_60_list.insert(0,MSFT_data['MSFT'][-1])"
      ],
      "metadata": {
        "id": "eoqCHeWvHoVQ"
      },
      "execution_count": null,
      "outputs": []
    },
    {
      "cell_type": "code",
      "source": [
        "plt.plot(range(1160,1260),MSFT_data['MSFT'][-100:],color='r',label='past 100 days')\n",
        "plt.plot(range(1259,1320),predicted_next_60_list,color='g',label='next 60 days')\n",
        "\n",
        "plt.ylabel('Price')\n",
        "plt.xlabel('Time')\n",
        "plt.legend()\n",
        "plt.show()"
      ],
      "metadata": {
        "colab": {
          "base_uri": "https://localhost:8080/",
          "height": 279
        },
        "id": "VSigUbixHrYC",
        "outputId": "4184f58a-1713-46fa-c7dc-739522278f2d"
      },
      "execution_count": null,
      "outputs": [
        {
          "output_type": "display_data",
          "data": {
            "text/plain": [
              "<Figure size 432x288 with 1 Axes>"
            ],
            "image/png": "[encoded data removed]"
          },
          "metadata": {
            "needs_background": "light"
          }
        }
      ]
    },
    {
      "cell_type": "markdown",
      "source": [
        "Fourth"
      ],
      "metadata": {
        "id": "72uNQS0VJGMY"
      }
    },
    {
      "cell_type": "code",
      "source": [
        "multi_lstm=tf.keras.Sequential([ \n",
        "    tf.keras.layers.LSTM(128,return_sequences=True),\n",
        "    tf.keras.layers.Dropout(0.3),\n",
        "    tf.keras.layers.LSTM(64,return_sequences=True),\n",
        "    tf.keras.layers.Dropout(0.2),\n",
        "    tf.keras.layers.LSTM(32,return_sequences=False),\n",
        "    #tf.keras.layers\n",
        "    tf.keras.layers.Dense(OUT_STEPS*num_features),\n",
        "    tf.keras.layers.Reshape([OUT_STEPS,num_features])\n",
        "])"
      ],
      "metadata": {
        "id": "DepzYquZJIWp"
      },
      "execution_count": null,
      "outputs": []
    },
    {
      "cell_type": "code",
      "source": [
        "history=compile_and_fit(multi_lstm,wide_window)"
      ],
      "metadata": {
        "colab": {
          "base_uri": "https://localhost:8080/"
        },
        "id": "zhdmHcVmJNKJ",
        "outputId": "a6b82c60-3e53-442c-cf01-cb0da3980ccf"
      },
      "execution_count": null,
      "outputs": [
        {
          "output_type": "stream",
          "name": "stdout",
          "text": [
            "Epoch 1/50\n",
            "23/23 [==============================] - 14s 298ms/step - loss: 0.0595 - mean_absolute_error: 0.1817 - val_loss: 0.2384 - val_mean_absolute_error: 0.4448\n",
            "Epoch 2/50\n",
            "23/23 [==============================] - 6s 239ms/step - loss: 0.0089 - mean_absolute_error: 0.0626 - val_loss: 0.0834 - val_mean_absolute_error: 0.2643\n",
            "Epoch 3/50\n",
            "23/23 [==============================] - 5s 237ms/step - loss: 0.0023 - mean_absolute_error: 0.0356 - val_loss: 0.0567 - val_mean_absolute_error: 0.2171\n",
            "Epoch 4/50\n",
            "23/23 [==============================] - 5s 237ms/step - loss: 0.0020 - mean_absolute_error: 0.0336 - val_loss: 0.0533 - val_mean_absolute_error: 0.2100\n",
            "Epoch 5/50\n",
            "23/23 [==============================] - 5s 235ms/step - loss: 0.0023 - mean_absolute_error: 0.0363 - val_loss: 0.0461 - val_mean_absolute_error: 0.1925\n",
            "Epoch 6/50\n",
            "23/23 [==============================] - 6s 238ms/step - loss: 0.0021 - mean_absolute_error: 0.0345 - val_loss: 0.0546 - val_mean_absolute_error: 0.2130\n",
            "Epoch 7/50\n",
            "23/23 [==============================] - 5s 234ms/step - loss: 0.0020 - mean_absolute_error: 0.0339 - val_loss: 0.0438 - val_mean_absolute_error: 0.1872\n",
            "Epoch 8/50\n",
            "23/23 [==============================] - 5s 234ms/step - loss: 0.0019 - mean_absolute_error: 0.0322 - val_loss: 0.0437 - val_mean_absolute_error: 0.1871\n",
            "Epoch 9/50\n",
            "23/23 [==============================] - 7s 322ms/step - loss: 0.0018 - mean_absolute_error: 0.0317 - val_loss: 0.0399 - val_mean_absolute_error: 0.1784\n",
            "Epoch 10/50\n",
            "23/23 [==============================] - 5s 236ms/step - loss: 0.0018 - mean_absolute_error: 0.0323 - val_loss: 0.0432 - val_mean_absolute_error: 0.1869\n",
            "Epoch 11/50\n",
            "23/23 [==============================] - 5s 236ms/step - loss: 0.0017 - mean_absolute_error: 0.0312 - val_loss: 0.0428 - val_mean_absolute_error: 0.1869\n",
            "Epoch 12/50\n",
            "23/23 [==============================] - 5s 235ms/step - loss: 0.0019 - mean_absolute_error: 0.0333 - val_loss: 0.0493 - val_mean_absolute_error: 0.2027\n",
            "Epoch 13/50\n",
            "23/23 [==============================] - 6s 239ms/step - loss: 0.0017 - mean_absolute_error: 0.0311 - val_loss: 0.0400 - val_mean_absolute_error: 0.1788\n",
            "Epoch 14/50\n",
            "23/23 [==============================] - 6s 238ms/step - loss: 0.0018 - mean_absolute_error: 0.0317 - val_loss: 0.0429 - val_mean_absolute_error: 0.1873\n",
            "Epoch 15/50\n",
            "23/23 [==============================] - 5s 235ms/step - loss: 0.0018 - mean_absolute_error: 0.0319 - val_loss: 0.0388 - val_mean_absolute_error: 0.1762\n",
            "Epoch 16/50\n",
            "23/23 [==============================] - 5s 233ms/step - loss: 0.0017 - mean_absolute_error: 0.0315 - val_loss: 0.0374 - val_mean_absolute_error: 0.1727\n",
            "Epoch 17/50\n",
            "23/23 [==============================] - 5s 237ms/step - loss: 0.0019 - mean_absolute_error: 0.0329 - val_loss: 0.0437 - val_mean_absolute_error: 0.1892\n",
            "Epoch 18/50\n",
            "23/23 [==============================] - 5s 237ms/step - loss: 0.0017 - mean_absolute_error: 0.0305 - val_loss: 0.0381 - val_mean_absolute_error: 0.1751\n",
            "Epoch 19/50\n",
            "23/23 [==============================] - 6s 239ms/step - loss: 0.0017 - mean_absolute_error: 0.0304 - val_loss: 0.0446 - val_mean_absolute_error: 0.1921\n",
            "Epoch 20/50\n",
            "23/23 [==============================] - 5s 237ms/step - loss: 0.0018 - mean_absolute_error: 0.0316 - val_loss: 0.0440 - val_mean_absolute_error: 0.1907\n",
            "Epoch 21/50\n",
            "23/23 [==============================] - 6s 238ms/step - loss: 0.0017 - mean_absolute_error: 0.0305 - val_loss: 0.0436 - val_mean_absolute_error: 0.1899\n",
            "Epoch 22/50\n",
            "23/23 [==============================] - 5s 236ms/step - loss: 0.0017 - mean_absolute_error: 0.0308 - val_loss: 0.0468 - val_mean_absolute_error: 0.1982\n",
            "Epoch 23/50\n",
            "23/23 [==============================] - 6s 240ms/step - loss: 0.0018 - mean_absolute_error: 0.0315 - val_loss: 0.0428 - val_mean_absolute_error: 0.1874\n",
            "Epoch 24/50\n",
            "23/23 [==============================] - 5s 237ms/step - loss: 0.0016 - mean_absolute_error: 0.0302 - val_loss: 0.0509 - val_mean_absolute_error: 0.2076\n"
          ]
        }
      ]
    },
    {
      "cell_type": "code",
      "source": [
        "last_90_data=total_data[-90:].to_numpy()\n",
        "tensor_data=tf.convert_to_tensor(last_90_data[np.newaxis])"
      ],
      "metadata": {
        "id": "9M9pydh8JPP5"
      },
      "execution_count": null,
      "outputs": []
    },
    {
      "cell_type": "code",
      "source": [
        "predicted_next_60=multi_lstm(tensor_data)[0].numpy()"
      ],
      "metadata": {
        "id": "dcCD3FVcJQ7o"
      },
      "execution_count": null,
      "outputs": []
    },
    {
      "cell_type": "code",
      "source": [
        "min_value=min(MSFT_data['MSFT'])\n",
        "max_value=max(MSFT_data['MSFT'])"
      ],
      "metadata": {
        "id": "ti9zVuUCJSHY"
      },
      "execution_count": null,
      "outputs": []
    },
    {
      "cell_type": "code",
      "source": [
        "tranform_back=(max_value-min_value)*predicted_next_60[:,0]+min_value\n",
        "predicted_next_60_list=list(tranform_back)\n",
        "predicted_next_60_list.insert(0,MSFT_data['MSFT'][-1])"
      ],
      "metadata": {
        "id": "9TLYpLYoJVkf"
      },
      "execution_count": null,
      "outputs": []
    },
    {
      "cell_type": "code",
      "source": [
        "plt.plot(range(1160,1260),MSFT_data['MSFT'][-100:],color='r',label='past 100 days')\n",
        "plt.plot(range(1259,1320),predicted_next_60_list,color='g',label='next 60 days')\n",
        "\n",
        "plt.ylabel('Price')\n",
        "plt.xlabel('Time')\n",
        "plt.legend()\n",
        "plt.show()"
      ],
      "metadata": {
        "colab": {
          "base_uri": "https://localhost:8080/",
          "height": 279
        },
        "id": "4ywEEwIlJXbX",
        "outputId": "e2612df8-292c-413f-bbd3-ec6ba2c132b8"
      },
      "execution_count": null,
      "outputs": [
        {
          "output_type": "display_data",
          "data": {
            "text/plain": [
              "<Figure size 432x288 with 1 Axes>"
            ],
            "image/png": "[encoded data removed]"
          },
          "metadata": {
            "needs_background": "light"
          }
        }
      ]
    },
    {
      "cell_type": "markdown",
      "source": [
        "Fifth"
      ],
      "metadata": {
        "id": "7aQYNozlKi-4"
      }
    },
    {
      "cell_type": "code",
      "source": [
        "multi_lstm=tf.keras.Sequential([ \n",
        "    tf.keras.layers.LSTM(128,return_sequences=True),\n",
        "    tf.keras.layers.Dropout(0.3),\n",
        "    tf.keras.layers.LSTM(64,return_sequences=True),\n",
        "    tf.keras.layers.Dropout(0.2),\n",
        "    tf.keras.layers.LSTM(32,return_sequences=False),\n",
        "    tf.keras.layers.Dense(OUT_STEPS*num_features),\n",
        "    tf.keras.layers.Reshape([OUT_STEPS,num_features])\n",
        "])"
      ],
      "metadata": {
        "id": "1QnE2PTwKki2"
      },
      "execution_count": null,
      "outputs": []
    },
    {
      "cell_type": "code",
      "source": [
        "history=compile_and_fit(multi_lstm,wide_window)"
      ],
      "metadata": {
        "colab": {
          "base_uri": "https://localhost:8080/"
        },
        "id": "Z1TOTs2aKo8w",
        "outputId": "25e0b94a-ec09-4568-8539-f9291e6602e2"
      },
      "execution_count": null,
      "outputs": [
        {
          "output_type": "stream",
          "name": "stdout",
          "text": [
            "Epoch 1/50\n",
            "23/23 [==============================] - 14s 330ms/step - loss: 0.0691 - mean_absolute_error: 0.2000 - val_loss: 0.2668 - val_mean_absolute_error: 0.4557\n",
            "Epoch 2/50\n",
            "23/23 [==============================] - 6s 241ms/step - loss: 0.0119 - mean_absolute_error: 0.0722 - val_loss: 0.0977 - val_mean_absolute_error: 0.2934\n",
            "Epoch 3/50\n",
            "23/23 [==============================] - 6s 266ms/step - loss: 0.0024 - mean_absolute_error: 0.0368 - val_loss: 0.0730 - val_mean_absolute_error: 0.2541\n",
            "Epoch 4/50\n",
            "23/23 [==============================] - 6s 240ms/step - loss: 0.0021 - mean_absolute_error: 0.0342 - val_loss: 0.0653 - val_mean_absolute_error: 0.2396\n",
            "Epoch 5/50\n",
            "23/23 [==============================] - 6s 239ms/step - loss: 0.0020 - mean_absolute_error: 0.0335 - val_loss: 0.0595 - val_mean_absolute_error: 0.2270\n",
            "Epoch 6/50\n",
            "23/23 [==============================] - 5s 236ms/step - loss: 0.0019 - mean_absolute_error: 0.0327 - val_loss: 0.0584 - val_mean_absolute_error: 0.2247\n",
            "Epoch 7/50\n",
            "23/23 [==============================] - 6s 265ms/step - loss: 0.0019 - mean_absolute_error: 0.0325 - val_loss: 0.0542 - val_mean_absolute_error: 0.2144\n",
            "Epoch 8/50\n",
            "23/23 [==============================] - 6s 238ms/step - loss: 0.0020 - mean_absolute_error: 0.0335 - val_loss: 0.0527 - val_mean_absolute_error: 0.2112\n",
            "Epoch 9/50\n",
            "23/23 [==============================] - 8s 358ms/step - loss: 0.0018 - mean_absolute_error: 0.0325 - val_loss: 0.0537 - val_mean_absolute_error: 0.2136\n",
            "Epoch 10/50\n",
            "23/23 [==============================] - 5s 235ms/step - loss: 0.0019 - mean_absolute_error: 0.0333 - val_loss: 0.0496 - val_mean_absolute_error: 0.2039\n",
            "Epoch 11/50\n",
            "23/23 [==============================] - 5s 235ms/step - loss: 0.0018 - mean_absolute_error: 0.0322 - val_loss: 0.0548 - val_mean_absolute_error: 0.2160\n",
            "Epoch 12/50\n",
            "23/23 [==============================] - 6s 237ms/step - loss: 0.0018 - mean_absolute_error: 0.0316 - val_loss: 0.0501 - val_mean_absolute_error: 0.2050\n",
            "Epoch 13/50\n",
            "23/23 [==============================] - 5s 236ms/step - loss: 0.0017 - mean_absolute_error: 0.0314 - val_loss: 0.0479 - val_mean_absolute_error: 0.1994\n",
            "Epoch 14/50\n",
            "23/23 [==============================] - 5s 235ms/step - loss: 0.0019 - mean_absolute_error: 0.0334 - val_loss: 0.0497 - val_mean_absolute_error: 0.2037\n",
            "Epoch 15/50\n",
            "23/23 [==============================] - 5s 235ms/step - loss: 0.0017 - mean_absolute_error: 0.0311 - val_loss: 0.0544 - val_mean_absolute_error: 0.2156\n",
            "Epoch 16/50\n",
            "23/23 [==============================] - 6s 240ms/step - loss: 0.0017 - mean_absolute_error: 0.0311 - val_loss: 0.0507 - val_mean_absolute_error: 0.2068\n",
            "Epoch 17/50\n",
            "23/23 [==============================] - 6s 238ms/step - loss: 0.0017 - mean_absolute_error: 0.0307 - val_loss: 0.0523 - val_mean_absolute_error: 0.2104\n",
            "Epoch 18/50\n",
            "23/23 [==============================] - 7s 298ms/step - loss: 0.0018 - mean_absolute_error: 0.0319 - val_loss: 0.0501 - val_mean_absolute_error: 0.2053\n",
            "Epoch 19/50\n",
            "23/23 [==============================] - 5s 234ms/step - loss: 0.0017 - mean_absolute_error: 0.0312 - val_loss: 0.0493 - val_mean_absolute_error: 0.2033\n",
            "Epoch 20/50\n",
            "23/23 [==============================] - 5s 237ms/step - loss: 0.0017 - mean_absolute_error: 0.0309 - val_loss: 0.0481 - val_mean_absolute_error: 0.2005\n",
            "Epoch 21/50\n",
            "23/23 [==============================] - 5s 236ms/step - loss: 0.0016 - mean_absolute_error: 0.0305 - val_loss: 0.0476 - val_mean_absolute_error: 0.1989\n",
            "Epoch 22/50\n",
            "23/23 [==============================] - 5s 236ms/step - loss: 0.0018 - mean_absolute_error: 0.0322 - val_loss: 0.0543 - val_mean_absolute_error: 0.2156\n",
            "Epoch 23/50\n",
            "23/23 [==============================] - 5s 231ms/step - loss: 0.0020 - mean_absolute_error: 0.0334 - val_loss: 0.0487 - val_mean_absolute_error: 0.2020\n",
            "Epoch 24/50\n",
            "23/23 [==============================] - 6s 239ms/step - loss: 0.0016 - mean_absolute_error: 0.0301 - val_loss: 0.0473 - val_mean_absolute_error: 0.1995\n",
            "Epoch 25/50\n",
            "23/23 [==============================] - 6s 240ms/step - loss: 0.0016 - mean_absolute_error: 0.0298 - val_loss: 0.0472 - val_mean_absolute_error: 0.1987\n",
            "Epoch 26/50\n",
            "23/23 [==============================] - 6s 238ms/step - loss: 0.0016 - mean_absolute_error: 0.0298 - val_loss: 0.0533 - val_mean_absolute_error: 0.2135\n",
            "Epoch 27/50\n",
            "23/23 [==============================] - 6s 239ms/step - loss: 0.0016 - mean_absolute_error: 0.0298 - val_loss: 0.0520 - val_mean_absolute_error: 0.2105\n",
            "Epoch 28/50\n",
            "23/23 [==============================] - 6s 239ms/step - loss: 0.0016 - mean_absolute_error: 0.0298 - val_loss: 0.0588 - val_mean_absolute_error: 0.2268\n",
            "Epoch 29/50\n",
            "23/23 [==============================] - 6s 239ms/step - loss: 0.0016 - mean_absolute_error: 0.0299 - val_loss: 0.0462 - val_mean_absolute_error: 0.1964\n",
            "Epoch 30/50\n",
            "23/23 [==============================] - 6s 238ms/step - loss: 0.0018 - mean_absolute_error: 0.0324 - val_loss: 0.0409 - val_mean_absolute_error: 0.1815\n",
            "Epoch 31/50\n",
            "23/23 [==============================] - 6s 239ms/step - loss: 0.0019 - mean_absolute_error: 0.0326 - val_loss: 0.0399 - val_mean_absolute_error: 0.1791\n",
            "Epoch 32/50\n",
            "23/23 [==============================] - 6s 239ms/step - loss: 0.0017 - mean_absolute_error: 0.0305 - val_loss: 0.0379 - val_mean_absolute_error: 0.1735\n",
            "Epoch 33/50\n",
            "23/23 [==============================] - 5s 238ms/step - loss: 0.0016 - mean_absolute_error: 0.0297 - val_loss: 0.0418 - val_mean_absolute_error: 0.1847\n",
            "Epoch 34/50\n",
            "23/23 [==============================] - 5s 238ms/step - loss: 0.0016 - mean_absolute_error: 0.0296 - val_loss: 0.0518 - val_mean_absolute_error: 0.2107\n",
            "Epoch 35/50\n",
            "23/23 [==============================] - 5s 235ms/step - loss: 0.0016 - mean_absolute_error: 0.0299 - val_loss: 0.0431 - val_mean_absolute_error: 0.1889\n",
            "Epoch 36/50\n",
            "23/23 [==============================] - 6s 240ms/step - loss: 0.0016 - mean_absolute_error: 0.0302 - val_loss: 0.0451 - val_mean_absolute_error: 0.1927\n",
            "Epoch 37/50\n",
            "23/23 [==============================] - 6s 242ms/step - loss: 0.0017 - mean_absolute_error: 0.0306 - val_loss: 0.0476 - val_mean_absolute_error: 0.1994\n",
            "Epoch 38/50\n",
            "23/23 [==============================] - 6s 239ms/step - loss: 0.0016 - mean_absolute_error: 0.0301 - val_loss: 0.0414 - val_mean_absolute_error: 0.1838\n",
            "Epoch 39/50\n",
            "23/23 [==============================] - 6s 239ms/step - loss: 0.0016 - mean_absolute_error: 0.0303 - val_loss: 0.0397 - val_mean_absolute_error: 0.1790\n",
            "Epoch 40/50\n",
            "23/23 [==============================] - 6s 239ms/step - loss: 0.0016 - mean_absolute_error: 0.0294 - val_loss: 0.0453 - val_mean_absolute_error: 0.1943\n"
          ]
        }
      ]
    },
    {
      "cell_type": "code",
      "source": [
        "last_90_data=total_data[-90:].to_numpy()\n",
        "tensor_data=tf.convert_to_tensor(last_90_data[np.newaxis])"
      ],
      "metadata": {
        "id": "Ey4SOYoYKrbO"
      },
      "execution_count": null,
      "outputs": []
    },
    {
      "cell_type": "code",
      "source": [
        "predicted_next_60=multi_lstm(tensor_data)[0].numpy()"
      ],
      "metadata": {
        "id": "79Qd62YaKwMe"
      },
      "execution_count": null,
      "outputs": []
    },
    {
      "cell_type": "code",
      "source": [
        "min_value=min(MSFT_data['MSFT'])\n",
        "max_value=max(MSFT_data['MSFT'])"
      ],
      "metadata": {
        "id": "Zbr7vONZKx6f"
      },
      "execution_count": null,
      "outputs": []
    },
    {
      "cell_type": "code",
      "source": [
        "tranform_back=(max_value-min_value)*predicted_next_60[:,0]+min_value\n",
        "predicted_next_60_list=list(tranform_back)\n",
        "predicted_next_60_list.insert(0,MSFT_data['MSFT'][-1])"
      ],
      "metadata": {
        "id": "vBzYGD0aK0TC"
      },
      "execution_count": null,
      "outputs": []
    },
    {
      "cell_type": "code",
      "source": [
        "plt.plot(range(1160,1260),MSFT_data['MSFT'][-100:],color='r',label='past 100 days')\n",
        "plt.plot(range(1259,1320),predicted_next_60_list,color='g',label='next 60 days')\n",
        "\n",
        "plt.ylabel('Price')\n",
        "plt.xlabel('Time')\n",
        "plt.legend()\n",
        "plt.show()"
      ],
      "metadata": {
        "colab": {
          "base_uri": "https://localhost:8080/",
          "height": 279
        },
        "id": "sBTg4JexK3XA",
        "outputId": "53e89797-9f34-4fd3-d652-69d2a9bc0cb9"
      },
      "execution_count": null,
      "outputs": [
        {
          "output_type": "display_data",
          "data": {
            "text/plain": [
              "<Figure size 432x288 with 1 Axes>"
            ],
            "image/png": "[encoded data removed]"
          },
          "metadata": {
            "needs_background": "light"
          }
        }
      ]
    },
    {
      "cell_type": "markdown",
      "source": [
        "Add more units"
      ],
      "metadata": {
        "id": "7YDDsPyKMO25"
      }
    },
    {
      "cell_type": "code",
      "source": [
        "multi_lstm=tf.keras.Sequential([ \n",
        "    tf.keras.layers.LSTM(256,return_sequences=True),\n",
        "    tf.keras.layers.Dropout(0.3),\n",
        "    tf.keras.layers.LSTM(128,return_sequences=True),\n",
        "    tf.keras.layers.Dropout(0.2),\n",
        "    tf.keras.layers.LSTM(64,return_sequences=False),\n",
        "    tf.keras.layers.Dropout(0.1),\n",
        "    tf.keras.layers.Dense(OUT_STEPS*num_features),\n",
        "    tf.keras.layers.Reshape([OUT_STEPS,num_features])\n",
        "])"
      ],
      "metadata": {
        "id": "uQnN4g6dMUE7"
      },
      "execution_count": null,
      "outputs": []
    },
    {
      "cell_type": "code",
      "source": [
        "history=compile_and_fit(multi_lstm,wide_window)"
      ],
      "metadata": {
        "colab": {
          "base_uri": "https://localhost:8080/"
        },
        "id": "_xwqX6iOMbGO",
        "outputId": "26e69bae-f8d2-4a22-a755-7dfbad0effef"
      },
      "execution_count": null,
      "outputs": [
        {
          "output_type": "stream",
          "name": "stdout",
          "text": [
            "Epoch 1/50\n",
            "23/23 [==============================] - 22s 656ms/step - loss: 0.0338 - mean_absolute_error: 0.1254 - val_loss: 0.0629 - val_mean_absolute_error: 0.2213\n",
            "Epoch 2/50\n",
            "23/23 [==============================] - 14s 595ms/step - loss: 0.0065 - mean_absolute_error: 0.0575 - val_loss: 0.0389 - val_mean_absolute_error: 0.1710\n",
            "Epoch 3/50\n",
            "23/23 [==============================] - 14s 586ms/step - loss: 0.0053 - mean_absolute_error: 0.0519 - val_loss: 0.0271 - val_mean_absolute_error: 0.1371\n",
            "Epoch 4/50\n",
            "23/23 [==============================] - 13s 584ms/step - loss: 0.0044 - mean_absolute_error: 0.0475 - val_loss: 0.0258 - val_mean_absolute_error: 0.1341\n",
            "Epoch 5/50\n",
            "23/23 [==============================] - 15s 645ms/step - loss: 0.0042 - mean_absolute_error: 0.0469 - val_loss: 0.0188 - val_mean_absolute_error: 0.1107\n",
            "Epoch 6/50\n",
            "23/23 [==============================] - 13s 584ms/step - loss: 0.0038 - mean_absolute_error: 0.0447 - val_loss: 0.0188 - val_mean_absolute_error: 0.1106\n",
            "Epoch 7/50\n",
            "23/23 [==============================] - 13s 585ms/step - loss: 0.0036 - mean_absolute_error: 0.0435 - val_loss: 0.0258 - val_mean_absolute_error: 0.1345\n",
            "Epoch 8/50\n",
            "23/23 [==============================] - 13s 586ms/step - loss: 0.0035 - mean_absolute_error: 0.0429 - val_loss: 0.0171 - val_mean_absolute_error: 0.1052\n",
            "Epoch 9/50\n",
            "23/23 [==============================] - 13s 584ms/step - loss: 0.0033 - mean_absolute_error: 0.0415 - val_loss: 0.0189 - val_mean_absolute_error: 0.1111\n",
            "Epoch 10/50\n",
            "23/23 [==============================] - 13s 584ms/step - loss: 0.0032 - mean_absolute_error: 0.0415 - val_loss: 0.0227 - val_mean_absolute_error: 0.1232\n",
            "Epoch 11/50\n",
            "23/23 [==============================] - 13s 581ms/step - loss: 0.0033 - mean_absolute_error: 0.0420 - val_loss: 0.0153 - val_mean_absolute_error: 0.0988\n",
            "Epoch 12/50\n",
            "23/23 [==============================] - 13s 584ms/step - loss: 0.0031 - mean_absolute_error: 0.0415 - val_loss: 0.0100 - val_mean_absolute_error: 0.0826\n",
            "Epoch 13/50\n",
            "23/23 [==============================] - 13s 580ms/step - loss: 0.0029 - mean_absolute_error: 0.0395 - val_loss: 0.0149 - val_mean_absolute_error: 0.0975\n",
            "Epoch 14/50\n",
            "23/23 [==============================] - 13s 583ms/step - loss: 0.0031 - mean_absolute_error: 0.0407 - val_loss: 0.0185 - val_mean_absolute_error: 0.1095\n",
            "Epoch 15/50\n",
            "23/23 [==============================] - 16s 694ms/step - loss: 0.0032 - mean_absolute_error: 0.0416 - val_loss: 0.0147 - val_mean_absolute_error: 0.0967\n",
            "Epoch 16/50\n",
            "23/23 [==============================] - 13s 580ms/step - loss: 0.0026 - mean_absolute_error: 0.0373 - val_loss: 0.0147 - val_mean_absolute_error: 0.0966\n",
            "Epoch 17/50\n",
            "23/23 [==============================] - 14s 588ms/step - loss: 0.0026 - mean_absolute_error: 0.0375 - val_loss: 0.0117 - val_mean_absolute_error: 0.0871\n",
            "Epoch 18/50\n",
            "23/23 [==============================] - 14s 589ms/step - loss: 0.0026 - mean_absolute_error: 0.0373 - val_loss: 0.0125 - val_mean_absolute_error: 0.0901\n",
            "Epoch 19/50\n",
            "23/23 [==============================] - 13s 585ms/step - loss: 0.0025 - mean_absolute_error: 0.0370 - val_loss: 0.0145 - val_mean_absolute_error: 0.0955\n",
            "Epoch 20/50\n",
            "23/23 [==============================] - 14s 591ms/step - loss: 0.0025 - mean_absolute_error: 0.0370 - val_loss: 0.0110 - val_mean_absolute_error: 0.0854\n"
          ]
        }
      ]
    },
    {
      "cell_type": "code",
      "source": [
        "last_90_data=total_data[-90:].to_numpy()\n",
        "tensor_data=tf.convert_to_tensor(last_90_data[np.newaxis])"
      ],
      "metadata": {
        "id": "H6YSf2-xN6GN"
      },
      "execution_count": null,
      "outputs": []
    },
    {
      "cell_type": "code",
      "source": [
        "predicted_next_60=multi_lstm(tensor_data)[0].numpy()"
      ],
      "metadata": {
        "id": "DvJc_56hN8Og"
      },
      "execution_count": null,
      "outputs": []
    },
    {
      "cell_type": "code",
      "source": [
        "min_value=min(MSFT_data['MSFT'])\n",
        "max_value=max(MSFT_data['MSFT'])"
      ],
      "metadata": {
        "id": "Yh6dngcXN_rZ"
      },
      "execution_count": null,
      "outputs": []
    },
    {
      "cell_type": "code",
      "source": [
        "tranform_back=(max_value-min_value)*predicted_next_60[:,0]+min_value\n",
        "predicted_next_60_list=list(tranform_back)\n",
        "predicted_next_60_list.insert(0,MSFT_data['MSFT'][-1])"
      ],
      "metadata": {
        "id": "r83SjoPIOCAI"
      },
      "execution_count": null,
      "outputs": []
    },
    {
      "cell_type": "code",
      "source": [
        "plt.plot(range(1160,1260),MSFT_data['MSFT'][-100:],color='r',label='past 100 days')\n",
        "plt.plot(range(1259,1320),predicted_next_60_list,color='g',label='next 60 days')\n",
        "\n",
        "plt.ylabel('Price')\n",
        "plt.xlabel('Time')\n",
        "plt.legend()\n",
        "plt.show()"
      ],
      "metadata": {
        "colab": {
          "base_uri": "https://localhost:8080/",
          "height": 279
        },
        "id": "5q_OP-wZOEsY",
        "outputId": "5b545e00-fb5c-4968-a262-9dae19599b9d"
      },
      "execution_count": null,
      "outputs": [
        {
          "output_type": "display_data",
          "data": {
            "text/plain": [
              "<Figure size 432x288 with 1 Axes>"
            ],
            "image/png": "[encoded data removed]"
          },
          "metadata": {
            "needs_background": "light"
          }
        }
      ]
    }
  ]
}